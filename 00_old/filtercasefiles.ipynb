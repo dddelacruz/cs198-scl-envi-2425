{
 "cells": [
  {
   "cell_type": "markdown",
   "metadata": {},
   "source": [
    "# Code for filtering COVID Case Information CSVs per province"
   ]
  },
  {
   "cell_type": "markdown",
   "metadata": {},
   "source": [
    "## Import packages"
   ]
  },
  {
   "cell_type": "code",
   "execution_count": 1,
   "metadata": {},
   "outputs": [],
   "source": [
    "import pandas as pd\n",
    "import os"
   ]
  },
  {
   "cell_type": "markdown",
   "metadata": {},
   "source": [
    "## Merge all CSV files into one dataframe"
   ]
  },
  {
   "cell_type": "code",
   "execution_count": null,
   "metadata": {},
   "outputs": [
    {
     "name": "stderr",
     "output_type": "stream",
     "text": [
      "C:\\Users\\diana\\AppData\\Local\\Temp\\ipykernel_20044\\965825412.py:13: DtypeWarning: Columns (16,17) have mixed types. Specify dtype option on import or set low_memory=False.\n",
      "  cases = pd.read_csv(path)\n",
      "C:\\Users\\diana\\AppData\\Local\\Temp\\ipykernel_20044\\965825412.py:15: DtypeWarning: Columns (8,11,19,21) have mixed types. Specify dtype option on import or set low_memory=False.\n",
      "  cases = pd.concat([cases, pd.read_csv(path)])\n"
     ]
    },
    {
     "data": {
      "text/plain": [
       "CaseCode             4136488\n",
       "Age                  4124590\n",
       "AgeGroup             4124590\n",
       "Sex                  4136487\n",
       "DateSpecimen         3160932\n",
       "DateResultRelease    3160257\n",
       "DateRepConf          4136488\n",
       "DateDied               66186\n",
       "DateRecover           732034\n",
       "RemovalType          4134715\n",
       "DateRepRem           4134715\n",
       "Admitted             3962865\n",
       "RegionRes            4132606\n",
       "ProvRes              4079119\n",
       "CityMunRes           4030963\n",
       "CityMuniPSGC         4024992\n",
       "BarangayRes          3767422\n",
       "BarangayPSGC         3761581\n",
       "HealthStatus         4136488\n",
       "Quarantined          4021265\n",
       "DateOnset            1491934\n",
       "Pregnanttab          2067561\n",
       "ValidationStatus     4089563\n",
       "dtype: int64"
      ]
     },
     "execution_count": 19,
     "metadata": {},
     "output_type": "execute_result"
    }
   ],
   "source": [
    "# initialize as empty\n",
    "cases = pd.DataFrame()\n",
    "\n",
    "# case information is saved locally due to size\n",
    "dir = os.listdir(\"case_information\")\n",
    "\n",
    "# append to csv\n",
    "for csv_file in dir:\n",
    "    path = f'case_information/{csv_file}'\n",
    "\n",
    "    # check if dataframe is empty\n",
    "    if (cases.empty):\n",
    "        #print(csv_file)\n",
    "        cases = pd.read_csv(path)\n",
    "    else:\n",
    "        cases = pd.concat([cases, pd.read_csv(path)])\n"
   ]
  },
  {
   "cell_type": "code",
   "execution_count": 22,
   "metadata": {},
   "outputs": [
    {
     "data": {
      "text/plain": [
       "(4136488, 23)"
      ]
     },
     "execution_count": 22,
     "metadata": {},
     "output_type": "execute_result"
    }
   ],
   "source": [
    "cases.shape\n",
    "\n",
    "# need to verify number of cases"
   ]
  },
  {
   "cell_type": "markdown",
   "metadata": {},
   "source": [
    "## Filter by province"
   ]
  },
  {
   "cell_type": "markdown",
   "metadata": {},
   "source": [
    "### Set Province"
   ]
  },
  {
   "cell_type": "code",
   "execution_count": 23,
   "metadata": {},
   "outputs": [],
   "source": [
    "province = 'CATANDUANES'"
   ]
  },
  {
   "cell_type": "markdown",
   "metadata": {},
   "source": [
    "### Filter DataFrame"
   ]
  },
  {
   "cell_type": "code",
   "execution_count": 26,
   "metadata": {},
   "outputs": [
    {
     "data": {
      "text/plain": [
       "(4258, 23)"
      ]
     },
     "execution_count": 26,
     "metadata": {},
     "output_type": "execute_result"
    }
   ],
   "source": [
    "filtered_cases = cases[cases['ProvRes'] == province]\n",
    "\n",
    "filtered_cases.shape"
   ]
  },
  {
   "cell_type": "markdown",
   "metadata": {},
   "source": [
    "## Export to CSV file"
   ]
  },
  {
   "cell_type": "code",
   "execution_count": 29,
   "metadata": {},
   "outputs": [],
   "source": [
    "filtered_cases.to_csv(f\"filtered_cases/{province}_case_information.csv\")"
   ]
  }
 ],
 "metadata": {
  "kernelspec": {
   "display_name": "Python 3",
   "language": "python",
   "name": "python3"
  },
  "language_info": {
   "codemirror_mode": {
    "name": "ipython",
    "version": 3
   },
   "file_extension": ".py",
   "mimetype": "text/x-python",
   "name": "python",
   "nbconvert_exporter": "python",
   "pygments_lexer": "ipython3",
   "version": "3.11.9"
  }
 },
 "nbformat": 4,
 "nbformat_minor": 2
}
