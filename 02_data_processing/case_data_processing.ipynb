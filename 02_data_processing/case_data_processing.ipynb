{
 "cells": [
  {
   "cell_type": "markdown",
   "metadata": {},
   "source": [
    "# Python Notebook for Processing Dataset"
   ]
  },
  {
   "cell_type": "markdown",
   "metadata": {},
   "source": [
    "## Preliminaries"
   ]
  },
  {
   "cell_type": "markdown",
   "metadata": {},
   "source": [
    "Import Dependencies"
   ]
  },
  {
   "cell_type": "code",
   "execution_count": 23,
   "metadata": {},
   "outputs": [],
   "source": [
    "import pandas as pd\n",
    "import os, re"
   ]
  },
  {
   "cell_type": "markdown",
   "metadata": {},
   "source": [
    "Set Province"
   ]
  },
  {
   "cell_type": "code",
   "execution_count": 24,
   "metadata": {},
   "outputs": [],
   "source": [
    "province = \"CATANDUANES\""
   ]
  },
  {
   "cell_type": "markdown",
   "metadata": {},
   "source": [
    "## Filter Case Information by Province"
   ]
  },
  {
   "cell_type": "markdown",
   "metadata": {},
   "source": [
    "Combine all CSV files into one DataFrame"
   ]
  },
  {
   "cell_type": "code",
   "execution_count": null,
   "metadata": {},
   "outputs": [
    {
     "name": "stderr",
     "output_type": "stream",
     "text": [
      "C:\\Users\\diana\\AppData\\Local\\Temp\\ipykernel_3828\\143997141.py:14: DtypeWarning: Columns (16,17) have mixed types. Specify dtype option on import or set low_memory=False.\n",
      "  df_cases = pd.read_csv(path)\n",
      "C:\\Users\\diana\\AppData\\Local\\Temp\\ipykernel_3828\\143997141.py:16: DtypeWarning: Columns (8,11,19,21) have mixed types. Specify dtype option on import or set low_memory=False.\n",
      "  df_cases = pd.concat([df_cases, pd.read_csv(path)])\n"
     ]
    }
   ],
   "source": [
    "# initialize an empty DataFrame\n",
    "df_cases = pd.DataFrame()\n",
    "\n",
    "# get all paths for each CSV file\n",
    "dir = os.listdir(\"../01_data/00_raw/00_case_information\")\n",
    "\n",
    "# append each CSV file to DataFrame\n",
    "for csv_file in dir:\n",
    "    path = f'../01_data/00_raw/00_case_information/{csv_file}'\n",
    "\n",
    "    # check if dataframe is empty\n",
    "    if (df_cases.empty):\n",
    "        #print(csv_file)\n",
    "        df_cases = pd.read_csv(path)\n",
    "    else:\n",
    "        df_cases = pd.concat([df_cases, pd.read_csv(path)])"
   ]
  },
  {
   "cell_type": "code",
   "execution_count": 26,
   "metadata": {},
   "outputs": [
    {
     "data": {
      "text/plain": [
       "(4136488, 23)"
      ]
     },
     "execution_count": 26,
     "metadata": {},
     "output_type": "execute_result"
    }
   ],
   "source": [
    "#verify number of cases\n",
    "df_cases.shape"
   ]
  },
  {
   "cell_type": "markdown",
   "metadata": {},
   "source": [
    "Filter by Province"
   ]
  },
  {
   "cell_type": "code",
   "execution_count": 27,
   "metadata": {},
   "outputs": [
    {
     "data": {
      "text/plain": [
       "(4258, 23)"
      ]
     },
     "execution_count": 27,
     "metadata": {},
     "output_type": "execute_result"
    }
   ],
   "source": [
    "df_cases_filtered = df_cases[df_cases['ProvRes'] == province]\n",
    "df_cases_filtered.shape"
   ]
  },
  {
   "cell_type": "markdown",
   "metadata": {},
   "source": [
    "Delete Initial DataFrame to free up memory"
   ]
  },
  {
   "cell_type": "code",
   "execution_count": 28,
   "metadata": {},
   "outputs": [],
   "source": [
    "del df_cases"
   ]
  },
  {
   "cell_type": "markdown",
   "metadata": {},
   "source": [
    "## Aggregate Data"
   ]
  },
  {
   "cell_type": "markdown",
   "metadata": {},
   "source": [
    "Drop rows with no listed municipality"
   ]
  },
  {
   "cell_type": "code",
   "execution_count": 29,
   "metadata": {},
   "outputs": [
    {
     "data": {
      "text/plain": [
       "(4055, 23)"
      ]
     },
     "execution_count": 29,
     "metadata": {},
     "output_type": "execute_result"
    }
   ],
   "source": [
    "df_cases_filtered = df_cases_filtered.dropna(subset='CityMunRes')\n",
    "df_cases_filtered.shape"
   ]
  },
  {
   "cell_type": "markdown",
   "metadata": {},
   "source": [
    "Get List of Municipalities"
   ]
  },
  {
   "cell_type": "code",
   "execution_count": 30,
   "metadata": {},
   "outputs": [
    {
     "data": {
      "text/plain": [
       "array(['SAN MIGUEL', 'BAGAMANOC', 'VIRAC (CAPITAL)', 'CARAMORAN',\n",
       "       'GIGMOTO', 'BARAS', 'PANGANIBAN (PAYO)', 'PANDAN', 'BATO',\n",
       "       'SAN ANDRES (CALOLBON)', 'VIGA'], dtype=object)"
      ]
     },
     "execution_count": 30,
     "metadata": {},
     "output_type": "execute_result"
    }
   ],
   "source": [
    "mun_list = df_cases_filtered[\"CityMunRes\"].unique()\n",
    "\n",
    "# remove parentheses to retain name only\n",
    "#mun_list = [re.sub(' \\(.*\\)', '', x) for x in mun_list]\n",
    "\n",
    "mun_list"
   ]
  },
  {
   "cell_type": "markdown",
   "metadata": {},
   "source": [
    "Aggregate Data for each Municipality"
   ]
  },
  {
   "cell_type": "code",
   "execution_count": 31,
   "metadata": {},
   "outputs": [
    {
     "data": {
      "text/html": [
       "<div>\n",
       "<style scoped>\n",
       "    .dataframe tbody tr th:only-of-type {\n",
       "        vertical-align: middle;\n",
       "    }\n",
       "\n",
       "    .dataframe tbody tr th {\n",
       "        vertical-align: top;\n",
       "    }\n",
       "\n",
       "    .dataframe thead th {\n",
       "        text-align: right;\n",
       "    }\n",
       "</style>\n",
       "<table border=\"1\" class=\"dataframe\">\n",
       "  <thead>\n",
       "    <tr style=\"text-align: right;\">\n",
       "      <th></th>\n",
       "      <th>Municipality</th>\n",
       "      <th>Date</th>\n",
       "      <th>NewCases</th>\n",
       "      <th>Deaths</th>\n",
       "      <th>Recoveries</th>\n",
       "    </tr>\n",
       "  </thead>\n",
       "  <tbody>\n",
       "    <tr>\n",
       "      <th>0</th>\n",
       "      <td>SAN MIGUEL</td>\n",
       "      <td>2020-06-06</td>\n",
       "      <td>1.0</td>\n",
       "      <td>0.0</td>\n",
       "      <td>0.0</td>\n",
       "    </tr>\n",
       "    <tr>\n",
       "      <th>1</th>\n",
       "      <td>SAN MIGUEL</td>\n",
       "      <td>2020-07-16</td>\n",
       "      <td>0.0</td>\n",
       "      <td>0.0</td>\n",
       "      <td>1.0</td>\n",
       "    </tr>\n",
       "    <tr>\n",
       "      <th>2</th>\n",
       "      <td>SAN MIGUEL</td>\n",
       "      <td>2020-09-10</td>\n",
       "      <td>1.0</td>\n",
       "      <td>0.0</td>\n",
       "      <td>0.0</td>\n",
       "    </tr>\n",
       "    <tr>\n",
       "      <th>3</th>\n",
       "      <td>SAN MIGUEL</td>\n",
       "      <td>2020-09-20</td>\n",
       "      <td>0.0</td>\n",
       "      <td>0.0</td>\n",
       "      <td>1.0</td>\n",
       "    </tr>\n",
       "    <tr>\n",
       "      <th>4</th>\n",
       "      <td>SAN MIGUEL</td>\n",
       "      <td>2020-09-24</td>\n",
       "      <td>1.0</td>\n",
       "      <td>0.0</td>\n",
       "      <td>0.0</td>\n",
       "    </tr>\n",
       "    <tr>\n",
       "      <th>...</th>\n",
       "      <td>...</td>\n",
       "      <td>...</td>\n",
       "      <td>...</td>\n",
       "      <td>...</td>\n",
       "      <td>...</td>\n",
       "    </tr>\n",
       "    <tr>\n",
       "      <th>2570</th>\n",
       "      <td>VIGA</td>\n",
       "      <td>2023-06-09</td>\n",
       "      <td>0.0</td>\n",
       "      <td>0.0</td>\n",
       "      <td>1.0</td>\n",
       "    </tr>\n",
       "    <tr>\n",
       "      <th>2571</th>\n",
       "      <td>VIGA</td>\n",
       "      <td>2023-06-28</td>\n",
       "      <td>1.0</td>\n",
       "      <td>0.0</td>\n",
       "      <td>0.0</td>\n",
       "    </tr>\n",
       "    <tr>\n",
       "      <th>2572</th>\n",
       "      <td>VIGA</td>\n",
       "      <td>2023-07-07</td>\n",
       "      <td>0.0</td>\n",
       "      <td>0.0</td>\n",
       "      <td>1.0</td>\n",
       "    </tr>\n",
       "    <tr>\n",
       "      <th>2573</th>\n",
       "      <td>VIGA</td>\n",
       "      <td>2023-12-30</td>\n",
       "      <td>1.0</td>\n",
       "      <td>0.0</td>\n",
       "      <td>0.0</td>\n",
       "    </tr>\n",
       "    <tr>\n",
       "      <th>2574</th>\n",
       "      <td>VIGA</td>\n",
       "      <td>2024-01-07</td>\n",
       "      <td>0.0</td>\n",
       "      <td>0.0</td>\n",
       "      <td>1.0</td>\n",
       "    </tr>\n",
       "  </tbody>\n",
       "</table>\n",
       "<p>2575 rows × 5 columns</p>\n",
       "</div>"
      ],
      "text/plain": [
       "     Municipality       Date  NewCases  Deaths  Recoveries\n",
       "0      SAN MIGUEL 2020-06-06       1.0     0.0         0.0\n",
       "1      SAN MIGUEL 2020-07-16       0.0     0.0         1.0\n",
       "2      SAN MIGUEL 2020-09-10       1.0     0.0         0.0\n",
       "3      SAN MIGUEL 2020-09-20       0.0     0.0         1.0\n",
       "4      SAN MIGUEL 2020-09-24       1.0     0.0         0.0\n",
       "...           ...        ...       ...     ...         ...\n",
       "2570         VIGA 2023-06-09       0.0     0.0         1.0\n",
       "2571         VIGA 2023-06-28       1.0     0.0         0.0\n",
       "2572         VIGA 2023-07-07       0.0     0.0         1.0\n",
       "2573         VIGA 2023-12-30       1.0     0.0         0.0\n",
       "2574         VIGA 2024-01-07       0.0     0.0         1.0\n",
       "\n",
       "[2575 rows x 5 columns]"
      ]
     },
     "execution_count": 31,
     "metadata": {},
     "output_type": "execute_result"
    }
   ],
   "source": [
    "# create initial empty DataFrame\n",
    "df_aggregated = pd.DataFrame()\n",
    "\n",
    "def aggregate_data(df, mun):\n",
    "    # for each unique dates, count the number of new cases, deaths, and recoveries\n",
    "    cases = df.groupby(\"DateRepConf\").size()\n",
    "    cases.index.name = \"Date\"\n",
    "\n",
    "    deaths = df[df[\"RemovalType\"] == \"DIED\"].groupby(\"DateRepRem\").size()\n",
    "    deaths.index.name = \"Date\"\n",
    "\n",
    "    recoveries = df[df[\"RemovalType\"] == \"RECOVERED\"].groupby(\"DateRepRem\").size()\n",
    "    recoveries.index.name = \"Date\"\n",
    "\n",
    "    # create a new DataFrame for aggregated data\n",
    "    new_df = pd.DataFrame()\n",
    "\n",
    "    data = {\n",
    "        \"NewCases\" : cases,\n",
    "        \"Deaths\" : deaths,\n",
    "        \"Recoveries\" : recoveries\n",
    "    }\n",
    "\n",
    "    new_df = pd.concat(data, axis = 1)\n",
    "\n",
    "    # add information\n",
    "    clean_mun = re.sub(' \\(.*\\)', '', mun)\n",
    "    new_df[\"Municipality\"] = clean_mun\n",
    "\n",
    "    # sort by date\n",
    "    new_df = new_df.reset_index()\n",
    "    new_df[\"Date\"] = pd.to_datetime(new_df.Date, format='mixed')\n",
    "\n",
    "    new_df = new_df.sort_values(by=\"Date\")\n",
    "    new_df = new_df.fillna(0)\n",
    "\n",
    "    return new_df\n",
    "\n",
    "\n",
    "for mun in mun_list:\n",
    "    df_mun = aggregate_data(df_cases_filtered[df_cases_filtered[\"CityMunRes\"] == mun], mun)\n",
    "    df_aggregated = pd.concat([df_aggregated, df_mun], ignore_index=True)\n",
    "\n",
    "\n",
    "# reorganize columns\n",
    "df_aggregated = df_aggregated.iloc[:, [4, 0, 1, 2, 3]]\n",
    "#df_aggregated =df_aggregated.iloc[:, [6, 3, 4, 5, 0, 1, 2]]\n",
    "\n",
    "# reformat date\n",
    "#df_aggregated[\"Date\"] = pd.to_datetime(df_aggregated.Date, format='mixed')\n",
    "\n",
    "df_aggregated\n"
   ]
  },
  {
   "cell_type": "markdown",
   "metadata": {},
   "source": [
    "Delete df_cases_filtered to free up memory"
   ]
  },
  {
   "cell_type": "code",
   "execution_count": 11,
   "metadata": {},
   "outputs": [],
   "source": [
    "del df_cases_filtered"
   ]
  },
  {
   "cell_type": "markdown",
   "metadata": {},
   "source": [
    "## Compute for Cumulative Cases for each Municipality"
   ]
  },
  {
   "cell_type": "markdown",
   "metadata": {},
   "source": [
    "Compute for change in cases per row"
   ]
  },
  {
   "cell_type": "code",
   "execution_count": 32,
   "metadata": {},
   "outputs": [
    {
     "data": {
      "text/html": [
       "<div>\n",
       "<style scoped>\n",
       "    .dataframe tbody tr th:only-of-type {\n",
       "        vertical-align: middle;\n",
       "    }\n",
       "\n",
       "    .dataframe tbody tr th {\n",
       "        vertical-align: top;\n",
       "    }\n",
       "\n",
       "    .dataframe thead th {\n",
       "        text-align: right;\n",
       "    }\n",
       "</style>\n",
       "<table border=\"1\" class=\"dataframe\">\n",
       "  <thead>\n",
       "    <tr style=\"text-align: right;\">\n",
       "      <th></th>\n",
       "      <th>Municipality</th>\n",
       "      <th>Date</th>\n",
       "      <th>NewCases</th>\n",
       "      <th>Deaths</th>\n",
       "      <th>Recoveries</th>\n",
       "      <th>d_cases</th>\n",
       "    </tr>\n",
       "  </thead>\n",
       "  <tbody>\n",
       "    <tr>\n",
       "      <th>0</th>\n",
       "      <td>SAN MIGUEL</td>\n",
       "      <td>2020-06-06</td>\n",
       "      <td>1.0</td>\n",
       "      <td>0.0</td>\n",
       "      <td>0.0</td>\n",
       "      <td>1.0</td>\n",
       "    </tr>\n",
       "    <tr>\n",
       "      <th>1</th>\n",
       "      <td>SAN MIGUEL</td>\n",
       "      <td>2020-07-16</td>\n",
       "      <td>0.0</td>\n",
       "      <td>0.0</td>\n",
       "      <td>1.0</td>\n",
       "      <td>-1.0</td>\n",
       "    </tr>\n",
       "    <tr>\n",
       "      <th>2</th>\n",
       "      <td>SAN MIGUEL</td>\n",
       "      <td>2020-09-10</td>\n",
       "      <td>1.0</td>\n",
       "      <td>0.0</td>\n",
       "      <td>0.0</td>\n",
       "      <td>1.0</td>\n",
       "    </tr>\n",
       "    <tr>\n",
       "      <th>3</th>\n",
       "      <td>SAN MIGUEL</td>\n",
       "      <td>2020-09-20</td>\n",
       "      <td>0.0</td>\n",
       "      <td>0.0</td>\n",
       "      <td>1.0</td>\n",
       "      <td>-1.0</td>\n",
       "    </tr>\n",
       "    <tr>\n",
       "      <th>4</th>\n",
       "      <td>SAN MIGUEL</td>\n",
       "      <td>2020-09-24</td>\n",
       "      <td>1.0</td>\n",
       "      <td>0.0</td>\n",
       "      <td>0.0</td>\n",
       "      <td>1.0</td>\n",
       "    </tr>\n",
       "    <tr>\n",
       "      <th>...</th>\n",
       "      <td>...</td>\n",
       "      <td>...</td>\n",
       "      <td>...</td>\n",
       "      <td>...</td>\n",
       "      <td>...</td>\n",
       "      <td>...</td>\n",
       "    </tr>\n",
       "    <tr>\n",
       "      <th>2570</th>\n",
       "      <td>VIGA</td>\n",
       "      <td>2023-06-09</td>\n",
       "      <td>0.0</td>\n",
       "      <td>0.0</td>\n",
       "      <td>1.0</td>\n",
       "      <td>-1.0</td>\n",
       "    </tr>\n",
       "    <tr>\n",
       "      <th>2571</th>\n",
       "      <td>VIGA</td>\n",
       "      <td>2023-06-28</td>\n",
       "      <td>1.0</td>\n",
       "      <td>0.0</td>\n",
       "      <td>0.0</td>\n",
       "      <td>1.0</td>\n",
       "    </tr>\n",
       "    <tr>\n",
       "      <th>2572</th>\n",
       "      <td>VIGA</td>\n",
       "      <td>2023-07-07</td>\n",
       "      <td>0.0</td>\n",
       "      <td>0.0</td>\n",
       "      <td>1.0</td>\n",
       "      <td>-1.0</td>\n",
       "    </tr>\n",
       "    <tr>\n",
       "      <th>2573</th>\n",
       "      <td>VIGA</td>\n",
       "      <td>2023-12-30</td>\n",
       "      <td>1.0</td>\n",
       "      <td>0.0</td>\n",
       "      <td>0.0</td>\n",
       "      <td>1.0</td>\n",
       "    </tr>\n",
       "    <tr>\n",
       "      <th>2574</th>\n",
       "      <td>VIGA</td>\n",
       "      <td>2024-01-07</td>\n",
       "      <td>0.0</td>\n",
       "      <td>0.0</td>\n",
       "      <td>1.0</td>\n",
       "      <td>-1.0</td>\n",
       "    </tr>\n",
       "  </tbody>\n",
       "</table>\n",
       "<p>2575 rows × 6 columns</p>\n",
       "</div>"
      ],
      "text/plain": [
       "     Municipality       Date  NewCases  Deaths  Recoveries  d_cases\n",
       "0      SAN MIGUEL 2020-06-06       1.0     0.0         0.0      1.0\n",
       "1      SAN MIGUEL 2020-07-16       0.0     0.0         1.0     -1.0\n",
       "2      SAN MIGUEL 2020-09-10       1.0     0.0         0.0      1.0\n",
       "3      SAN MIGUEL 2020-09-20       0.0     0.0         1.0     -1.0\n",
       "4      SAN MIGUEL 2020-09-24       1.0     0.0         0.0      1.0\n",
       "...           ...        ...       ...     ...         ...      ...\n",
       "2570         VIGA 2023-06-09       0.0     0.0         1.0     -1.0\n",
       "2571         VIGA 2023-06-28       1.0     0.0         0.0      1.0\n",
       "2572         VIGA 2023-07-07       0.0     0.0         1.0     -1.0\n",
       "2573         VIGA 2023-12-30       1.0     0.0         0.0      1.0\n",
       "2574         VIGA 2024-01-07       0.0     0.0         1.0     -1.0\n",
       "\n",
       "[2575 rows x 6 columns]"
      ]
     },
     "execution_count": 32,
     "metadata": {},
     "output_type": "execute_result"
    }
   ],
   "source": [
    "df_aggregated[\"d_cases\"] = df_aggregated[\"NewCases\"] - df_aggregated[\"Deaths\"] - df_aggregated[\"Recoveries\"]\n",
    "\n",
    "df_aggregated"
   ]
  },
  {
   "cell_type": "markdown",
   "metadata": {},
   "source": [
    "Get Date Range for Entire Data"
   ]
  },
  {
   "cell_type": "code",
   "execution_count": 33,
   "metadata": {},
   "outputs": [
    {
     "data": {
      "text/html": [
       "<div>\n",
       "<style scoped>\n",
       "    .dataframe tbody tr th:only-of-type {\n",
       "        vertical-align: middle;\n",
       "    }\n",
       "\n",
       "    .dataframe tbody tr th {\n",
       "        vertical-align: top;\n",
       "    }\n",
       "\n",
       "    .dataframe thead th {\n",
       "        text-align: right;\n",
       "    }\n",
       "</style>\n",
       "<table border=\"1\" class=\"dataframe\">\n",
       "  <thead>\n",
       "    <tr style=\"text-align: right;\">\n",
       "      <th></th>\n",
       "      <th>Date</th>\n",
       "    </tr>\n",
       "  </thead>\n",
       "  <tbody>\n",
       "    <tr>\n",
       "      <th>2020-06-06</th>\n",
       "      <td>2020-06-06</td>\n",
       "    </tr>\n",
       "    <tr>\n",
       "      <th>2020-06-07</th>\n",
       "      <td>2020-06-07</td>\n",
       "    </tr>\n",
       "    <tr>\n",
       "      <th>2020-06-08</th>\n",
       "      <td>2020-06-08</td>\n",
       "    </tr>\n",
       "    <tr>\n",
       "      <th>2020-06-09</th>\n",
       "      <td>2020-06-09</td>\n",
       "    </tr>\n",
       "    <tr>\n",
       "      <th>2020-06-10</th>\n",
       "      <td>2020-06-10</td>\n",
       "    </tr>\n",
       "    <tr>\n",
       "      <th>...</th>\n",
       "      <td>...</td>\n",
       "    </tr>\n",
       "    <tr>\n",
       "      <th>2024-01-04</th>\n",
       "      <td>2024-01-04</td>\n",
       "    </tr>\n",
       "    <tr>\n",
       "      <th>2024-01-05</th>\n",
       "      <td>2024-01-05</td>\n",
       "    </tr>\n",
       "    <tr>\n",
       "      <th>2024-01-06</th>\n",
       "      <td>2024-01-06</td>\n",
       "    </tr>\n",
       "    <tr>\n",
       "      <th>2024-01-07</th>\n",
       "      <td>2024-01-07</td>\n",
       "    </tr>\n",
       "    <tr>\n",
       "      <th>2024-01-08</th>\n",
       "      <td>2024-01-08</td>\n",
       "    </tr>\n",
       "  </tbody>\n",
       "</table>\n",
       "<p>1312 rows × 1 columns</p>\n",
       "</div>"
      ],
      "text/plain": [
       "                 Date\n",
       "2020-06-06 2020-06-06\n",
       "2020-06-07 2020-06-07\n",
       "2020-06-08 2020-06-08\n",
       "2020-06-09 2020-06-09\n",
       "2020-06-10 2020-06-10\n",
       "...               ...\n",
       "2024-01-04 2024-01-04\n",
       "2024-01-05 2024-01-05\n",
       "2024-01-06 2024-01-06\n",
       "2024-01-07 2024-01-07\n",
       "2024-01-08 2024-01-08\n",
       "\n",
       "[1312 rows x 1 columns]"
      ]
     },
     "execution_count": 33,
     "metadata": {},
     "output_type": "execute_result"
    }
   ],
   "source": [
    "# get min and max date\n",
    "min_date = df_aggregated[\"Date\"].min()\n",
    "max_date = df_aggregated[\"Date\"].max()\n",
    "\n",
    "# create series of date from min to max\n",
    "date_range = pd.date_range(start=min_date, end=max_date).to_frame(name=\"Date\")\n",
    "\n",
    "date_range"
   ]
  },
  {
   "cell_type": "markdown",
   "metadata": {},
   "source": [
    "Calculate cumulative cases per municipality"
   ]
  },
  {
   "cell_type": "code",
   "execution_count": 40,
   "metadata": {},
   "outputs": [
    {
     "data": {
      "text/html": [
       "<div>\n",
       "<style scoped>\n",
       "    .dataframe tbody tr th:only-of-type {\n",
       "        vertical-align: middle;\n",
       "    }\n",
       "\n",
       "    .dataframe tbody tr th {\n",
       "        vertical-align: top;\n",
       "    }\n",
       "\n",
       "    .dataframe thead th {\n",
       "        text-align: right;\n",
       "    }\n",
       "</style>\n",
       "<table border=\"1\" class=\"dataframe\">\n",
       "  <thead>\n",
       "    <tr style=\"text-align: right;\">\n",
       "      <th></th>\n",
       "      <th>Date</th>\n",
       "      <th>Municipality</th>\n",
       "      <th>NewCases</th>\n",
       "      <th>Deaths</th>\n",
       "      <th>Recoveries</th>\n",
       "      <th>d_cases</th>\n",
       "      <th>n</th>\n",
       "    </tr>\n",
       "  </thead>\n",
       "  <tbody>\n",
       "    <tr>\n",
       "      <th>0</th>\n",
       "      <td>2020-06-06</td>\n",
       "      <td>SAN MIGUEL</td>\n",
       "      <td>1.0</td>\n",
       "      <td>0.0</td>\n",
       "      <td>0.0</td>\n",
       "      <td>1.0</td>\n",
       "      <td>1.0</td>\n",
       "    </tr>\n",
       "    <tr>\n",
       "      <th>1</th>\n",
       "      <td>2020-06-07</td>\n",
       "      <td>SAN MIGUEL</td>\n",
       "      <td>0.0</td>\n",
       "      <td>0.0</td>\n",
       "      <td>0.0</td>\n",
       "      <td>0.0</td>\n",
       "      <td>1.0</td>\n",
       "    </tr>\n",
       "    <tr>\n",
       "      <th>2</th>\n",
       "      <td>2020-06-08</td>\n",
       "      <td>SAN MIGUEL</td>\n",
       "      <td>0.0</td>\n",
       "      <td>0.0</td>\n",
       "      <td>0.0</td>\n",
       "      <td>0.0</td>\n",
       "      <td>1.0</td>\n",
       "    </tr>\n",
       "    <tr>\n",
       "      <th>3</th>\n",
       "      <td>2020-06-09</td>\n",
       "      <td>SAN MIGUEL</td>\n",
       "      <td>0.0</td>\n",
       "      <td>0.0</td>\n",
       "      <td>0.0</td>\n",
       "      <td>0.0</td>\n",
       "      <td>1.0</td>\n",
       "    </tr>\n",
       "    <tr>\n",
       "      <th>4</th>\n",
       "      <td>2020-06-10</td>\n",
       "      <td>SAN MIGUEL</td>\n",
       "      <td>0.0</td>\n",
       "      <td>0.0</td>\n",
       "      <td>0.0</td>\n",
       "      <td>0.0</td>\n",
       "      <td>1.0</td>\n",
       "    </tr>\n",
       "    <tr>\n",
       "      <th>...</th>\n",
       "      <td>...</td>\n",
       "      <td>...</td>\n",
       "      <td>...</td>\n",
       "      <td>...</td>\n",
       "      <td>...</td>\n",
       "      <td>...</td>\n",
       "      <td>...</td>\n",
       "    </tr>\n",
       "    <tr>\n",
       "      <th>1307</th>\n",
       "      <td>2024-01-04</td>\n",
       "      <td>VIGA</td>\n",
       "      <td>0.0</td>\n",
       "      <td>0.0</td>\n",
       "      <td>0.0</td>\n",
       "      <td>0.0</td>\n",
       "      <td>1.0</td>\n",
       "    </tr>\n",
       "    <tr>\n",
       "      <th>1308</th>\n",
       "      <td>2024-01-05</td>\n",
       "      <td>VIGA</td>\n",
       "      <td>0.0</td>\n",
       "      <td>0.0</td>\n",
       "      <td>0.0</td>\n",
       "      <td>0.0</td>\n",
       "      <td>1.0</td>\n",
       "    </tr>\n",
       "    <tr>\n",
       "      <th>1309</th>\n",
       "      <td>2024-01-06</td>\n",
       "      <td>VIGA</td>\n",
       "      <td>0.0</td>\n",
       "      <td>0.0</td>\n",
       "      <td>0.0</td>\n",
       "      <td>0.0</td>\n",
       "      <td>1.0</td>\n",
       "    </tr>\n",
       "    <tr>\n",
       "      <th>1310</th>\n",
       "      <td>2024-01-07</td>\n",
       "      <td>VIGA</td>\n",
       "      <td>0.0</td>\n",
       "      <td>0.0</td>\n",
       "      <td>1.0</td>\n",
       "      <td>-1.0</td>\n",
       "      <td>0.0</td>\n",
       "    </tr>\n",
       "    <tr>\n",
       "      <th>1311</th>\n",
       "      <td>2024-01-08</td>\n",
       "      <td>VIGA</td>\n",
       "      <td>0.0</td>\n",
       "      <td>0.0</td>\n",
       "      <td>0.0</td>\n",
       "      <td>0.0</td>\n",
       "      <td>0.0</td>\n",
       "    </tr>\n",
       "  </tbody>\n",
       "</table>\n",
       "<p>14432 rows × 7 columns</p>\n",
       "</div>"
      ],
      "text/plain": [
       "           Date Municipality  NewCases  Deaths  Recoveries  d_cases    n\n",
       "0    2020-06-06   SAN MIGUEL       1.0     0.0         0.0      1.0  1.0\n",
       "1    2020-06-07   SAN MIGUEL       0.0     0.0         0.0      0.0  1.0\n",
       "2    2020-06-08   SAN MIGUEL       0.0     0.0         0.0      0.0  1.0\n",
       "3    2020-06-09   SAN MIGUEL       0.0     0.0         0.0      0.0  1.0\n",
       "4    2020-06-10   SAN MIGUEL       0.0     0.0         0.0      0.0  1.0\n",
       "...         ...          ...       ...     ...         ...      ...  ...\n",
       "1307 2024-01-04         VIGA       0.0     0.0         0.0      0.0  1.0\n",
       "1308 2024-01-05         VIGA       0.0     0.0         0.0      0.0  1.0\n",
       "1309 2024-01-06         VIGA       0.0     0.0         0.0      0.0  1.0\n",
       "1310 2024-01-07         VIGA       0.0     0.0         1.0     -1.0  0.0\n",
       "1311 2024-01-08         VIGA       0.0     0.0         0.0      0.0  0.0\n",
       "\n",
       "[14432 rows x 7 columns]"
      ]
     },
     "execution_count": 40,
     "metadata": {},
     "output_type": "execute_result"
    }
   ],
   "source": [
    "df_cumsum = pd.DataFrame()\n",
    "mun_list = df_aggregated[\"Municipality\"].unique()\n",
    "\n",
    "#print(mun_list)\n",
    "\n",
    "def calculate_cumsum(df, mun):\n",
    "    # dataframe with all dates included\n",
    "    df_extended = pd.DataFrame()\n",
    "    df_extended[\"Date\"] = date_range\n",
    "\n",
    "    # merge with existing dataframe\n",
    "    df_extended = pd.merge(df_extended, df, how='outer', on='Date')\n",
    "\n",
    "    # add additional data\n",
    "    df_extended['Municipality'] = mun\n",
    "    df_extended = df_extended.fillna(0)\n",
    "\n",
    "    # compute cumulative data\n",
    "    df_extended[\"n\"] = df_extended[\"d_cases\"].cumsum()\n",
    "\n",
    "    return df_extended\n",
    "\n",
    "for mun in mun_list:\n",
    "    df_mun = calculate_cumsum(df_aggregated[df_aggregated[\"Municipality\"]==mun], mun)\n",
    "    df_cumsum = pd.concat([df_cumsum, df_mun])\n",
    "\n",
    "df_cumsum"
   ]
  },
  {
   "cell_type": "markdown",
   "metadata": {},
   "source": [
    "## Export Data to CSV file"
   ]
  },
  {
   "cell_type": "code",
   "execution_count": null,
   "metadata": {},
   "outputs": [],
   "source": [
    "df_cumsum.to_csv(f\"../01_data/01_processed/00_case_data/{province}_case_data.csv\",index=False)"
   ]
  }
 ],
 "metadata": {
  "kernelspec": {
   "display_name": "Python 3",
   "language": "python",
   "name": "python3"
  },
  "language_info": {
   "codemirror_mode": {
    "name": "ipython",
    "version": 3
   },
   "file_extension": ".py",
   "mimetype": "text/x-python",
   "name": "python",
   "nbconvert_exporter": "python",
   "pygments_lexer": "ipython3",
   "version": "3.11.9"
  }
 },
 "nbformat": 4,
 "nbformat_minor": 2
}
