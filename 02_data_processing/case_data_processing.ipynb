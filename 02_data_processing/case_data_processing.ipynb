{
 "cells": [
  {
   "cell_type": "markdown",
   "metadata": {},
   "source": [
    "# Python Notebook for Processing Dataset"
   ]
  },
  {
   "cell_type": "markdown",
   "metadata": {},
   "source": [
    "## Preliminaries"
   ]
  },
  {
   "cell_type": "markdown",
   "metadata": {},
   "source": [
    "Import Dependencies"
   ]
  },
  {
   "cell_type": "code",
   "execution_count": 3,
   "metadata": {},
   "outputs": [],
   "source": [
    "import pandas as pd\n",
    "import os, re"
   ]
  },
  {
   "cell_type": "markdown",
   "metadata": {},
   "source": [
    "Set Province"
   ]
  },
  {
   "cell_type": "code",
   "execution_count": 1,
   "metadata": {},
   "outputs": [],
   "source": [
    "province = \"CATANDUANES\""
   ]
  },
  {
   "cell_type": "markdown",
   "metadata": {},
   "source": [
    "Set Start and End Date for model"
   ]
  },
  {
   "cell_type": "code",
   "execution_count": 4,
   "metadata": {},
   "outputs": [
    {
     "data": {
      "text/plain": [
       "(Timestamp('2021-01-01 00:00:00'), Timestamp('2022-12-31 00:00:00'))"
      ]
     },
     "execution_count": 4,
     "metadata": {},
     "output_type": "execute_result"
    }
   ],
   "source": [
    "start_date = pd.to_datetime('2021-01-01')\n",
    "end_date = pd.to_datetime('2022-12-31')\n",
    "\n",
    "(start_date, end_date)"
   ]
  },
  {
   "cell_type": "markdown",
   "metadata": {},
   "source": [
    "## Filter Case Information by Province"
   ]
  },
  {
   "cell_type": "markdown",
   "metadata": {},
   "source": [
    "Combine all CSV files into one DataFrame"
   ]
  },
  {
   "cell_type": "code",
   "execution_count": 5,
   "metadata": {},
   "outputs": [
    {
     "name": "stderr",
     "output_type": "stream",
     "text": [
      "C:\\Users\\diana\\AppData\\Local\\Temp\\ipykernel_17380\\2709074204.py:14: DtypeWarning: Columns (16,17) have mixed types. Specify dtype option on import or set low_memory=False.\n",
      "  df_cases = pd.read_csv(path)\n",
      "C:\\Users\\diana\\AppData\\Local\\Temp\\ipykernel_17380\\2709074204.py:16: DtypeWarning: Columns (8,11,19,21) have mixed types. Specify dtype option on import or set low_memory=False.\n",
      "  df_cases = pd.concat([df_cases, pd.read_csv(path)])\n"
     ]
    }
   ],
   "source": [
    "# initialize an empty DataFrame\n",
    "df_cases = pd.DataFrame()\n",
    "\n",
    "# get all paths for each CSV file\n",
    "dir = os.listdir(\"../01_data/00_raw/00_case_information\")\n",
    "\n",
    "# append each CSV file to DataFrame\n",
    "for csv_file in dir:\n",
    "    path = f'../01_data/00_raw/00_case_information/{csv_file}'\n",
    "\n",
    "    # check if dataframe is empty\n",
    "    if (df_cases.empty):\n",
    "        #print(csv_file)\n",
    "        df_cases = pd.read_csv(path)\n",
    "    else:\n",
    "        df_cases = pd.concat([df_cases, pd.read_csv(path)])"
   ]
  },
  {
   "cell_type": "code",
   "execution_count": 6,
   "metadata": {},
   "outputs": [
    {
     "data": {
      "text/plain": [
       "(4136488, 24)"
      ]
     },
     "execution_count": 6,
     "metadata": {},
     "output_type": "execute_result"
    }
   ],
   "source": [
    "#verify number of cases\n",
    "df_cases.shape"
   ]
  },
  {
   "cell_type": "markdown",
   "metadata": {},
   "source": [
    "Filter by Province"
   ]
  },
  {
   "cell_type": "code",
   "execution_count": 7,
   "metadata": {},
   "outputs": [
    {
     "data": {
      "text/plain": [
       "(4258, 24)"
      ]
     },
     "execution_count": 7,
     "metadata": {},
     "output_type": "execute_result"
    }
   ],
   "source": [
    "df_cases_filtered = df_cases[df_cases['ProvRes'] == province]\n",
    "df_cases_filtered.shape"
   ]
  },
  {
   "cell_type": "markdown",
   "metadata": {},
   "source": [
    "Delete Initial DataFrame to free up memory"
   ]
  },
  {
   "cell_type": "code",
   "execution_count": 8,
   "metadata": {},
   "outputs": [],
   "source": [
    "del df_cases"
   ]
  },
  {
   "cell_type": "markdown",
   "metadata": {},
   "source": [
    "## Aggregate Data"
   ]
  },
  {
   "cell_type": "markdown",
   "metadata": {},
   "source": [
    "Drop rows with no listed municipality"
   ]
  },
  {
   "cell_type": "code",
   "execution_count": 9,
   "metadata": {},
   "outputs": [
    {
     "data": {
      "text/plain": [
       "(4055, 24)"
      ]
     },
     "execution_count": 9,
     "metadata": {},
     "output_type": "execute_result"
    }
   ],
   "source": [
    "df_cases_filtered = df_cases_filtered.dropna(subset='CityMunRes')\n",
    "df_cases_filtered.shape"
   ]
  },
  {
   "cell_type": "markdown",
   "metadata": {},
   "source": [
    "Get List of Municipalities"
   ]
  },
  {
   "cell_type": "code",
   "execution_count": 10,
   "metadata": {},
   "outputs": [
    {
     "data": {
      "text/plain": [
       "array(['SAN MIGUEL', 'BAGAMANOC', 'VIRAC (CAPITAL)', 'CARAMORAN',\n",
       "       'GIGMOTO', 'BARAS', 'PANGANIBAN (PAYO)', 'PANDAN', 'BATO',\n",
       "       'SAN ANDRES (CALOLBON)', 'VIGA'], dtype=object)"
      ]
     },
     "execution_count": 10,
     "metadata": {},
     "output_type": "execute_result"
    }
   ],
   "source": [
    "mun_list = df_cases_filtered[\"CityMunRes\"].unique()\n",
    "\n",
    "# remove parentheses to retain name only\n",
    "#mun_list = [re.sub(' \\(.*\\)', '', x) for x in mun_list]\n",
    "\n",
    "mun_list"
   ]
  },
  {
   "cell_type": "markdown",
   "metadata": {},
   "source": [
    "Aggregate Data for each Municipality"
   ]
  },
  {
   "cell_type": "code",
   "execution_count": 11,
   "metadata": {},
   "outputs": [
    {
     "data": {
      "text/html": [
       "<div>\n",
       "<style scoped>\n",
       "    .dataframe tbody tr th:only-of-type {\n",
       "        vertical-align: middle;\n",
       "    }\n",
       "\n",
       "    .dataframe tbody tr th {\n",
       "        vertical-align: top;\n",
       "    }\n",
       "\n",
       "    .dataframe thead th {\n",
       "        text-align: right;\n",
       "    }\n",
       "</style>\n",
       "<table border=\"1\" class=\"dataframe\">\n",
       "  <thead>\n",
       "    <tr style=\"text-align: right;\">\n",
       "      <th></th>\n",
       "      <th>Municipality</th>\n",
       "      <th>Date</th>\n",
       "      <th>NewCases</th>\n",
       "      <th>Deaths</th>\n",
       "      <th>Recoveries</th>\n",
       "    </tr>\n",
       "  </thead>\n",
       "  <tbody>\n",
       "    <tr>\n",
       "      <th>0</th>\n",
       "      <td>SAN MIGUEL</td>\n",
       "      <td>2020-06-06</td>\n",
       "      <td>1.0</td>\n",
       "      <td>0.0</td>\n",
       "      <td>0.0</td>\n",
       "    </tr>\n",
       "    <tr>\n",
       "      <th>1</th>\n",
       "      <td>SAN MIGUEL</td>\n",
       "      <td>2020-07-16</td>\n",
       "      <td>0.0</td>\n",
       "      <td>0.0</td>\n",
       "      <td>1.0</td>\n",
       "    </tr>\n",
       "    <tr>\n",
       "      <th>2</th>\n",
       "      <td>SAN MIGUEL</td>\n",
       "      <td>2020-09-10</td>\n",
       "      <td>1.0</td>\n",
       "      <td>0.0</td>\n",
       "      <td>0.0</td>\n",
       "    </tr>\n",
       "    <tr>\n",
       "      <th>3</th>\n",
       "      <td>SAN MIGUEL</td>\n",
       "      <td>2020-09-20</td>\n",
       "      <td>0.0</td>\n",
       "      <td>0.0</td>\n",
       "      <td>1.0</td>\n",
       "    </tr>\n",
       "    <tr>\n",
       "      <th>4</th>\n",
       "      <td>SAN MIGUEL</td>\n",
       "      <td>2020-09-24</td>\n",
       "      <td>1.0</td>\n",
       "      <td>0.0</td>\n",
       "      <td>0.0</td>\n",
       "    </tr>\n",
       "    <tr>\n",
       "      <th>...</th>\n",
       "      <td>...</td>\n",
       "      <td>...</td>\n",
       "      <td>...</td>\n",
       "      <td>...</td>\n",
       "      <td>...</td>\n",
       "    </tr>\n",
       "    <tr>\n",
       "      <th>2570</th>\n",
       "      <td>VIGA</td>\n",
       "      <td>2023-06-09</td>\n",
       "      <td>0.0</td>\n",
       "      <td>0.0</td>\n",
       "      <td>1.0</td>\n",
       "    </tr>\n",
       "    <tr>\n",
       "      <th>2571</th>\n",
       "      <td>VIGA</td>\n",
       "      <td>2023-06-28</td>\n",
       "      <td>1.0</td>\n",
       "      <td>0.0</td>\n",
       "      <td>0.0</td>\n",
       "    </tr>\n",
       "    <tr>\n",
       "      <th>2572</th>\n",
       "      <td>VIGA</td>\n",
       "      <td>2023-07-07</td>\n",
       "      <td>0.0</td>\n",
       "      <td>0.0</td>\n",
       "      <td>1.0</td>\n",
       "    </tr>\n",
       "    <tr>\n",
       "      <th>2573</th>\n",
       "      <td>VIGA</td>\n",
       "      <td>2023-12-30</td>\n",
       "      <td>1.0</td>\n",
       "      <td>0.0</td>\n",
       "      <td>0.0</td>\n",
       "    </tr>\n",
       "    <tr>\n",
       "      <th>2574</th>\n",
       "      <td>VIGA</td>\n",
       "      <td>2024-01-07</td>\n",
       "      <td>0.0</td>\n",
       "      <td>0.0</td>\n",
       "      <td>1.0</td>\n",
       "    </tr>\n",
       "  </tbody>\n",
       "</table>\n",
       "<p>2575 rows × 5 columns</p>\n",
       "</div>"
      ],
      "text/plain": [
       "     Municipality       Date  NewCases  Deaths  Recoveries\n",
       "0      SAN MIGUEL 2020-06-06       1.0     0.0         0.0\n",
       "1      SAN MIGUEL 2020-07-16       0.0     0.0         1.0\n",
       "2      SAN MIGUEL 2020-09-10       1.0     0.0         0.0\n",
       "3      SAN MIGUEL 2020-09-20       0.0     0.0         1.0\n",
       "4      SAN MIGUEL 2020-09-24       1.0     0.0         0.0\n",
       "...           ...        ...       ...     ...         ...\n",
       "2570         VIGA 2023-06-09       0.0     0.0         1.0\n",
       "2571         VIGA 2023-06-28       1.0     0.0         0.0\n",
       "2572         VIGA 2023-07-07       0.0     0.0         1.0\n",
       "2573         VIGA 2023-12-30       1.0     0.0         0.0\n",
       "2574         VIGA 2024-01-07       0.0     0.0         1.0\n",
       "\n",
       "[2575 rows x 5 columns]"
      ]
     },
     "execution_count": 11,
     "metadata": {},
     "output_type": "execute_result"
    }
   ],
   "source": [
    "# create initial empty DataFrame\n",
    "df_aggregated = pd.DataFrame()\n",
    "\n",
    "def aggregate_data(df, mun):\n",
    "    # for each unique dates, count the number of new cases, deaths, and recoveries\n",
    "    cases = df.groupby(\"DateRepConf\").size()\n",
    "    cases.index.name = \"Date\"\n",
    "\n",
    "    deaths = df[df[\"RemovalType\"] == \"DIED\"].groupby(\"DateRepRem\").size()\n",
    "    deaths.index.name = \"Date\"\n",
    "\n",
    "    recoveries = df[df[\"RemovalType\"] == \"RECOVERED\"].groupby(\"DateRepRem\").size()\n",
    "    recoveries.index.name = \"Date\"\n",
    "\n",
    "    # create a new DataFrame for aggregated data\n",
    "    new_df = pd.DataFrame()\n",
    "\n",
    "    data = {\n",
    "        \"NewCases\" : cases,\n",
    "        \"Deaths\" : deaths,\n",
    "        \"Recoveries\" : recoveries\n",
    "    }\n",
    "\n",
    "    new_df = pd.concat(data, axis = 1)\n",
    "\n",
    "    # add information\n",
    "    clean_mun = re.sub(' \\(.*\\)', '', mun)\n",
    "    new_df[\"Municipality\"] = clean_mun\n",
    "\n",
    "    # sort by date\n",
    "    new_df = new_df.reset_index()\n",
    "    new_df[\"Date\"] = pd.to_datetime(new_df.Date, format='mixed')\n",
    "\n",
    "    new_df = new_df.sort_values(by=\"Date\")\n",
    "    new_df = new_df.fillna(0)\n",
    "\n",
    "    return new_df\n",
    "\n",
    "\n",
    "for mun in mun_list:\n",
    "    df_mun = aggregate_data(df_cases_filtered[df_cases_filtered[\"CityMunRes\"] == mun], mun)\n",
    "    df_aggregated = pd.concat([df_aggregated, df_mun], ignore_index=True)\n",
    "\n",
    "\n",
    "# reorganize columns\n",
    "df_aggregated = df_aggregated.iloc[:, [4, 0, 1, 2, 3]]\n",
    "#df_aggregated =df_aggregated.iloc[:, [6, 3, 4, 5, 0, 1, 2]]\n",
    "\n",
    "# reformat date\n",
    "#df_aggregated[\"Date\"] = pd.to_datetime(df_aggregated.Date, format='mixed')\n",
    "\n",
    "df_aggregated\n"
   ]
  },
  {
   "cell_type": "markdown",
   "metadata": {},
   "source": [
    "Delete df_cases_filtered to free up memory"
   ]
  },
  {
   "cell_type": "code",
   "execution_count": 12,
   "metadata": {},
   "outputs": [],
   "source": [
    "del df_cases_filtered"
   ]
  },
  {
   "cell_type": "markdown",
   "metadata": {},
   "source": [
    "## Compute for Cumulative Cases for each Municipality"
   ]
  },
  {
   "cell_type": "markdown",
   "metadata": {},
   "source": [
    "Compute for change in cases per row"
   ]
  },
  {
   "cell_type": "code",
   "execution_count": 13,
   "metadata": {},
   "outputs": [
    {
     "data": {
      "text/html": [
       "<div>\n",
       "<style scoped>\n",
       "    .dataframe tbody tr th:only-of-type {\n",
       "        vertical-align: middle;\n",
       "    }\n",
       "\n",
       "    .dataframe tbody tr th {\n",
       "        vertical-align: top;\n",
       "    }\n",
       "\n",
       "    .dataframe thead th {\n",
       "        text-align: right;\n",
       "    }\n",
       "</style>\n",
       "<table border=\"1\" class=\"dataframe\">\n",
       "  <thead>\n",
       "    <tr style=\"text-align: right;\">\n",
       "      <th></th>\n",
       "      <th>Municipality</th>\n",
       "      <th>Date</th>\n",
       "      <th>NewCases</th>\n",
       "      <th>Deaths</th>\n",
       "      <th>Recoveries</th>\n",
       "      <th>d_cases</th>\n",
       "    </tr>\n",
       "  </thead>\n",
       "  <tbody>\n",
       "    <tr>\n",
       "      <th>0</th>\n",
       "      <td>SAN MIGUEL</td>\n",
       "      <td>2020-06-06</td>\n",
       "      <td>1.0</td>\n",
       "      <td>0.0</td>\n",
       "      <td>0.0</td>\n",
       "      <td>1.0</td>\n",
       "    </tr>\n",
       "    <tr>\n",
       "      <th>1</th>\n",
       "      <td>SAN MIGUEL</td>\n",
       "      <td>2020-07-16</td>\n",
       "      <td>0.0</td>\n",
       "      <td>0.0</td>\n",
       "      <td>1.0</td>\n",
       "      <td>-1.0</td>\n",
       "    </tr>\n",
       "    <tr>\n",
       "      <th>2</th>\n",
       "      <td>SAN MIGUEL</td>\n",
       "      <td>2020-09-10</td>\n",
       "      <td>1.0</td>\n",
       "      <td>0.0</td>\n",
       "      <td>0.0</td>\n",
       "      <td>1.0</td>\n",
       "    </tr>\n",
       "    <tr>\n",
       "      <th>3</th>\n",
       "      <td>SAN MIGUEL</td>\n",
       "      <td>2020-09-20</td>\n",
       "      <td>0.0</td>\n",
       "      <td>0.0</td>\n",
       "      <td>1.0</td>\n",
       "      <td>-1.0</td>\n",
       "    </tr>\n",
       "    <tr>\n",
       "      <th>4</th>\n",
       "      <td>SAN MIGUEL</td>\n",
       "      <td>2020-09-24</td>\n",
       "      <td>1.0</td>\n",
       "      <td>0.0</td>\n",
       "      <td>0.0</td>\n",
       "      <td>1.0</td>\n",
       "    </tr>\n",
       "    <tr>\n",
       "      <th>...</th>\n",
       "      <td>...</td>\n",
       "      <td>...</td>\n",
       "      <td>...</td>\n",
       "      <td>...</td>\n",
       "      <td>...</td>\n",
       "      <td>...</td>\n",
       "    </tr>\n",
       "    <tr>\n",
       "      <th>2570</th>\n",
       "      <td>VIGA</td>\n",
       "      <td>2023-06-09</td>\n",
       "      <td>0.0</td>\n",
       "      <td>0.0</td>\n",
       "      <td>1.0</td>\n",
       "      <td>-1.0</td>\n",
       "    </tr>\n",
       "    <tr>\n",
       "      <th>2571</th>\n",
       "      <td>VIGA</td>\n",
       "      <td>2023-06-28</td>\n",
       "      <td>1.0</td>\n",
       "      <td>0.0</td>\n",
       "      <td>0.0</td>\n",
       "      <td>1.0</td>\n",
       "    </tr>\n",
       "    <tr>\n",
       "      <th>2572</th>\n",
       "      <td>VIGA</td>\n",
       "      <td>2023-07-07</td>\n",
       "      <td>0.0</td>\n",
       "      <td>0.0</td>\n",
       "      <td>1.0</td>\n",
       "      <td>-1.0</td>\n",
       "    </tr>\n",
       "    <tr>\n",
       "      <th>2573</th>\n",
       "      <td>VIGA</td>\n",
       "      <td>2023-12-30</td>\n",
       "      <td>1.0</td>\n",
       "      <td>0.0</td>\n",
       "      <td>0.0</td>\n",
       "      <td>1.0</td>\n",
       "    </tr>\n",
       "    <tr>\n",
       "      <th>2574</th>\n",
       "      <td>VIGA</td>\n",
       "      <td>2024-01-07</td>\n",
       "      <td>0.0</td>\n",
       "      <td>0.0</td>\n",
       "      <td>1.0</td>\n",
       "      <td>-1.0</td>\n",
       "    </tr>\n",
       "  </tbody>\n",
       "</table>\n",
       "<p>2575 rows × 6 columns</p>\n",
       "</div>"
      ],
      "text/plain": [
       "     Municipality       Date  NewCases  Deaths  Recoveries  d_cases\n",
       "0      SAN MIGUEL 2020-06-06       1.0     0.0         0.0      1.0\n",
       "1      SAN MIGUEL 2020-07-16       0.0     0.0         1.0     -1.0\n",
       "2      SAN MIGUEL 2020-09-10       1.0     0.0         0.0      1.0\n",
       "3      SAN MIGUEL 2020-09-20       0.0     0.0         1.0     -1.0\n",
       "4      SAN MIGUEL 2020-09-24       1.0     0.0         0.0      1.0\n",
       "...           ...        ...       ...     ...         ...      ...\n",
       "2570         VIGA 2023-06-09       0.0     0.0         1.0     -1.0\n",
       "2571         VIGA 2023-06-28       1.0     0.0         0.0      1.0\n",
       "2572         VIGA 2023-07-07       0.0     0.0         1.0     -1.0\n",
       "2573         VIGA 2023-12-30       1.0     0.0         0.0      1.0\n",
       "2574         VIGA 2024-01-07       0.0     0.0         1.0     -1.0\n",
       "\n",
       "[2575 rows x 6 columns]"
      ]
     },
     "execution_count": 13,
     "metadata": {},
     "output_type": "execute_result"
    }
   ],
   "source": [
    "df_aggregated[\"d_cases\"] = df_aggregated[\"NewCases\"] - df_aggregated[\"Deaths\"] - df_aggregated[\"Recoveries\"]\n",
    "\n",
    "df_aggregated"
   ]
  },
  {
   "cell_type": "markdown",
   "metadata": {},
   "source": [
    "Filter Data Frame to only use certain dates"
   ]
  },
  {
   "cell_type": "code",
   "execution_count": 17,
   "metadata": {},
   "outputs": [
    {
     "data": {
      "text/html": [
       "<div>\n",
       "<style scoped>\n",
       "    .dataframe tbody tr th:only-of-type {\n",
       "        vertical-align: middle;\n",
       "    }\n",
       "\n",
       "    .dataframe tbody tr th {\n",
       "        vertical-align: top;\n",
       "    }\n",
       "\n",
       "    .dataframe thead th {\n",
       "        text-align: right;\n",
       "    }\n",
       "</style>\n",
       "<table border=\"1\" class=\"dataframe\">\n",
       "  <thead>\n",
       "    <tr style=\"text-align: right;\">\n",
       "      <th></th>\n",
       "      <th>Municipality</th>\n",
       "      <th>Date</th>\n",
       "      <th>NewCases</th>\n",
       "      <th>Deaths</th>\n",
       "      <th>Recoveries</th>\n",
       "      <th>d_cases</th>\n",
       "    </tr>\n",
       "  </thead>\n",
       "  <tbody>\n",
       "    <tr>\n",
       "      <th>8</th>\n",
       "      <td>SAN MIGUEL</td>\n",
       "      <td>2021-01-14</td>\n",
       "      <td>1.0</td>\n",
       "      <td>0.0</td>\n",
       "      <td>0.0</td>\n",
       "      <td>1.0</td>\n",
       "    </tr>\n",
       "    <tr>\n",
       "      <th>9</th>\n",
       "      <td>SAN MIGUEL</td>\n",
       "      <td>2021-01-24</td>\n",
       "      <td>0.0</td>\n",
       "      <td>0.0</td>\n",
       "      <td>1.0</td>\n",
       "      <td>-1.0</td>\n",
       "    </tr>\n",
       "    <tr>\n",
       "      <th>10</th>\n",
       "      <td>SAN MIGUEL</td>\n",
       "      <td>2021-02-01</td>\n",
       "      <td>1.0</td>\n",
       "      <td>0.0</td>\n",
       "      <td>0.0</td>\n",
       "      <td>1.0</td>\n",
       "    </tr>\n",
       "    <tr>\n",
       "      <th>11</th>\n",
       "      <td>SAN MIGUEL</td>\n",
       "      <td>2021-02-21</td>\n",
       "      <td>0.0</td>\n",
       "      <td>0.0</td>\n",
       "      <td>1.0</td>\n",
       "      <td>-1.0</td>\n",
       "    </tr>\n",
       "    <tr>\n",
       "      <th>12</th>\n",
       "      <td>SAN MIGUEL</td>\n",
       "      <td>2021-04-05</td>\n",
       "      <td>1.0</td>\n",
       "      <td>0.0</td>\n",
       "      <td>0.0</td>\n",
       "      <td>1.0</td>\n",
       "    </tr>\n",
       "    <tr>\n",
       "      <th>...</th>\n",
       "      <td>...</td>\n",
       "      <td>...</td>\n",
       "      <td>...</td>\n",
       "      <td>...</td>\n",
       "      <td>...</td>\n",
       "      <td>...</td>\n",
       "    </tr>\n",
       "    <tr>\n",
       "      <th>2561</th>\n",
       "      <td>VIGA</td>\n",
       "      <td>2022-08-10</td>\n",
       "      <td>1.0</td>\n",
       "      <td>0.0</td>\n",
       "      <td>0.0</td>\n",
       "      <td>1.0</td>\n",
       "    </tr>\n",
       "    <tr>\n",
       "      <th>2562</th>\n",
       "      <td>VIGA</td>\n",
       "      <td>2022-08-20</td>\n",
       "      <td>1.0</td>\n",
       "      <td>0.0</td>\n",
       "      <td>1.0</td>\n",
       "      <td>0.0</td>\n",
       "    </tr>\n",
       "    <tr>\n",
       "      <th>2563</th>\n",
       "      <td>VIGA</td>\n",
       "      <td>2022-09-01</td>\n",
       "      <td>0.0</td>\n",
       "      <td>1.0</td>\n",
       "      <td>1.0</td>\n",
       "      <td>-2.0</td>\n",
       "    </tr>\n",
       "    <tr>\n",
       "      <th>2564</th>\n",
       "      <td>VIGA</td>\n",
       "      <td>2022-10-10</td>\n",
       "      <td>1.0</td>\n",
       "      <td>0.0</td>\n",
       "      <td>0.0</td>\n",
       "      <td>1.0</td>\n",
       "    </tr>\n",
       "    <tr>\n",
       "      <th>2565</th>\n",
       "      <td>VIGA</td>\n",
       "      <td>2022-10-16</td>\n",
       "      <td>0.0</td>\n",
       "      <td>0.0</td>\n",
       "      <td>1.0</td>\n",
       "      <td>-1.0</td>\n",
       "    </tr>\n",
       "  </tbody>\n",
       "</table>\n",
       "<p>2165 rows × 6 columns</p>\n",
       "</div>"
      ],
      "text/plain": [
       "     Municipality       Date  NewCases  Deaths  Recoveries  d_cases\n",
       "8      SAN MIGUEL 2021-01-14       1.0     0.0         0.0      1.0\n",
       "9      SAN MIGUEL 2021-01-24       0.0     0.0         1.0     -1.0\n",
       "10     SAN MIGUEL 2021-02-01       1.0     0.0         0.0      1.0\n",
       "11     SAN MIGUEL 2021-02-21       0.0     0.0         1.0     -1.0\n",
       "12     SAN MIGUEL 2021-04-05       1.0     0.0         0.0      1.0\n",
       "...           ...        ...       ...     ...         ...      ...\n",
       "2561         VIGA 2022-08-10       1.0     0.0         0.0      1.0\n",
       "2562         VIGA 2022-08-20       1.0     0.0         1.0      0.0\n",
       "2563         VIGA 2022-09-01       0.0     1.0         1.0     -2.0\n",
       "2564         VIGA 2022-10-10       1.0     0.0         0.0      1.0\n",
       "2565         VIGA 2022-10-16       0.0     0.0         1.0     -1.0\n",
       "\n",
       "[2165 rows x 6 columns]"
      ]
     },
     "execution_count": 17,
     "metadata": {},
     "output_type": "execute_result"
    }
   ],
   "source": [
    "df_cases_filtered_date = df_aggregated[(df_aggregated[\"Date\"] >= start_date) & (df_aggregated[\"Date\"] <= end_date)]\n",
    "df_cases_filtered_date"
   ]
  },
  {
   "cell_type": "markdown",
   "metadata": {},
   "source": [
    "Delete df_aggregated"
   ]
  },
  {
   "cell_type": "code",
   "execution_count": 23,
   "metadata": {},
   "outputs": [],
   "source": [
    "del df_aggregated"
   ]
  },
  {
   "cell_type": "markdown",
   "metadata": {},
   "source": [
    "Generate Date Range Series for Entire Data"
   ]
  },
  {
   "cell_type": "code",
   "execution_count": 18,
   "metadata": {},
   "outputs": [
    {
     "data": {
      "text/html": [
       "<div>\n",
       "<style scoped>\n",
       "    .dataframe tbody tr th:only-of-type {\n",
       "        vertical-align: middle;\n",
       "    }\n",
       "\n",
       "    .dataframe tbody tr th {\n",
       "        vertical-align: top;\n",
       "    }\n",
       "\n",
       "    .dataframe thead th {\n",
       "        text-align: right;\n",
       "    }\n",
       "</style>\n",
       "<table border=\"1\" class=\"dataframe\">\n",
       "  <thead>\n",
       "    <tr style=\"text-align: right;\">\n",
       "      <th></th>\n",
       "      <th>Date</th>\n",
       "    </tr>\n",
       "  </thead>\n",
       "  <tbody>\n",
       "    <tr>\n",
       "      <th>2021-01-01</th>\n",
       "      <td>2021-01-01</td>\n",
       "    </tr>\n",
       "    <tr>\n",
       "      <th>2021-01-02</th>\n",
       "      <td>2021-01-02</td>\n",
       "    </tr>\n",
       "    <tr>\n",
       "      <th>2021-01-03</th>\n",
       "      <td>2021-01-03</td>\n",
       "    </tr>\n",
       "    <tr>\n",
       "      <th>2021-01-04</th>\n",
       "      <td>2021-01-04</td>\n",
       "    </tr>\n",
       "    <tr>\n",
       "      <th>2021-01-05</th>\n",
       "      <td>2021-01-05</td>\n",
       "    </tr>\n",
       "    <tr>\n",
       "      <th>...</th>\n",
       "      <td>...</td>\n",
       "    </tr>\n",
       "    <tr>\n",
       "      <th>2022-12-27</th>\n",
       "      <td>2022-12-27</td>\n",
       "    </tr>\n",
       "    <tr>\n",
       "      <th>2022-12-28</th>\n",
       "      <td>2022-12-28</td>\n",
       "    </tr>\n",
       "    <tr>\n",
       "      <th>2022-12-29</th>\n",
       "      <td>2022-12-29</td>\n",
       "    </tr>\n",
       "    <tr>\n",
       "      <th>2022-12-30</th>\n",
       "      <td>2022-12-30</td>\n",
       "    </tr>\n",
       "    <tr>\n",
       "      <th>2022-12-31</th>\n",
       "      <td>2022-12-31</td>\n",
       "    </tr>\n",
       "  </tbody>\n",
       "</table>\n",
       "<p>730 rows × 1 columns</p>\n",
       "</div>"
      ],
      "text/plain": [
       "                 Date\n",
       "2021-01-01 2021-01-01\n",
       "2021-01-02 2021-01-02\n",
       "2021-01-03 2021-01-03\n",
       "2021-01-04 2021-01-04\n",
       "2021-01-05 2021-01-05\n",
       "...               ...\n",
       "2022-12-27 2022-12-27\n",
       "2022-12-28 2022-12-28\n",
       "2022-12-29 2022-12-29\n",
       "2022-12-30 2022-12-30\n",
       "2022-12-31 2022-12-31\n",
       "\n",
       "[730 rows x 1 columns]"
      ]
     },
     "execution_count": 18,
     "metadata": {},
     "output_type": "execute_result"
    }
   ],
   "source": [
    "# create series of date from min to max\n",
    "date_range = pd.date_range(start=start_date, end=end_date).to_frame(name=\"Date\")\n",
    "\n",
    "date_range"
   ]
  },
  {
   "cell_type": "markdown",
   "metadata": {},
   "source": [
    "Calculate cumulative cases per municipality"
   ]
  },
  {
   "cell_type": "code",
   "execution_count": 22,
   "metadata": {},
   "outputs": [
    {
     "data": {
      "text/html": [
       "<div>\n",
       "<style scoped>\n",
       "    .dataframe tbody tr th:only-of-type {\n",
       "        vertical-align: middle;\n",
       "    }\n",
       "\n",
       "    .dataframe tbody tr th {\n",
       "        vertical-align: top;\n",
       "    }\n",
       "\n",
       "    .dataframe thead th {\n",
       "        text-align: right;\n",
       "    }\n",
       "</style>\n",
       "<table border=\"1\" class=\"dataframe\">\n",
       "  <thead>\n",
       "    <tr style=\"text-align: right;\">\n",
       "      <th></th>\n",
       "      <th>Date</th>\n",
       "      <th>Municipality</th>\n",
       "      <th>NewCases</th>\n",
       "      <th>Deaths</th>\n",
       "      <th>Recoveries</th>\n",
       "      <th>d_cases</th>\n",
       "      <th>n</th>\n",
       "    </tr>\n",
       "  </thead>\n",
       "  <tbody>\n",
       "    <tr>\n",
       "      <th>0</th>\n",
       "      <td>2021-01-01</td>\n",
       "      <td>SAN MIGUEL</td>\n",
       "      <td>0.0</td>\n",
       "      <td>0.0</td>\n",
       "      <td>0.0</td>\n",
       "      <td>0.0</td>\n",
       "      <td>0.0</td>\n",
       "    </tr>\n",
       "    <tr>\n",
       "      <th>1</th>\n",
       "      <td>2021-01-02</td>\n",
       "      <td>SAN MIGUEL</td>\n",
       "      <td>0.0</td>\n",
       "      <td>0.0</td>\n",
       "      <td>0.0</td>\n",
       "      <td>0.0</td>\n",
       "      <td>0.0</td>\n",
       "    </tr>\n",
       "    <tr>\n",
       "      <th>2</th>\n",
       "      <td>2021-01-03</td>\n",
       "      <td>SAN MIGUEL</td>\n",
       "      <td>0.0</td>\n",
       "      <td>0.0</td>\n",
       "      <td>0.0</td>\n",
       "      <td>0.0</td>\n",
       "      <td>0.0</td>\n",
       "    </tr>\n",
       "    <tr>\n",
       "      <th>3</th>\n",
       "      <td>2021-01-04</td>\n",
       "      <td>SAN MIGUEL</td>\n",
       "      <td>0.0</td>\n",
       "      <td>0.0</td>\n",
       "      <td>0.0</td>\n",
       "      <td>0.0</td>\n",
       "      <td>0.0</td>\n",
       "    </tr>\n",
       "    <tr>\n",
       "      <th>4</th>\n",
       "      <td>2021-01-05</td>\n",
       "      <td>SAN MIGUEL</td>\n",
       "      <td>0.0</td>\n",
       "      <td>0.0</td>\n",
       "      <td>0.0</td>\n",
       "      <td>0.0</td>\n",
       "      <td>0.0</td>\n",
       "    </tr>\n",
       "    <tr>\n",
       "      <th>...</th>\n",
       "      <td>...</td>\n",
       "      <td>...</td>\n",
       "      <td>...</td>\n",
       "      <td>...</td>\n",
       "      <td>...</td>\n",
       "      <td>...</td>\n",
       "      <td>...</td>\n",
       "    </tr>\n",
       "    <tr>\n",
       "      <th>725</th>\n",
       "      <td>2022-12-27</td>\n",
       "      <td>VIGA</td>\n",
       "      <td>0.0</td>\n",
       "      <td>0.0</td>\n",
       "      <td>0.0</td>\n",
       "      <td>0.0</td>\n",
       "      <td>0.0</td>\n",
       "    </tr>\n",
       "    <tr>\n",
       "      <th>726</th>\n",
       "      <td>2022-12-28</td>\n",
       "      <td>VIGA</td>\n",
       "      <td>0.0</td>\n",
       "      <td>0.0</td>\n",
       "      <td>0.0</td>\n",
       "      <td>0.0</td>\n",
       "      <td>0.0</td>\n",
       "    </tr>\n",
       "    <tr>\n",
       "      <th>727</th>\n",
       "      <td>2022-12-29</td>\n",
       "      <td>VIGA</td>\n",
       "      <td>0.0</td>\n",
       "      <td>0.0</td>\n",
       "      <td>0.0</td>\n",
       "      <td>0.0</td>\n",
       "      <td>0.0</td>\n",
       "    </tr>\n",
       "    <tr>\n",
       "      <th>728</th>\n",
       "      <td>2022-12-30</td>\n",
       "      <td>VIGA</td>\n",
       "      <td>0.0</td>\n",
       "      <td>0.0</td>\n",
       "      <td>0.0</td>\n",
       "      <td>0.0</td>\n",
       "      <td>0.0</td>\n",
       "    </tr>\n",
       "    <tr>\n",
       "      <th>729</th>\n",
       "      <td>2022-12-31</td>\n",
       "      <td>VIGA</td>\n",
       "      <td>0.0</td>\n",
       "      <td>0.0</td>\n",
       "      <td>0.0</td>\n",
       "      <td>0.0</td>\n",
       "      <td>0.0</td>\n",
       "    </tr>\n",
       "  </tbody>\n",
       "</table>\n",
       "<p>8030 rows × 7 columns</p>\n",
       "</div>"
      ],
      "text/plain": [
       "          Date Municipality  NewCases  Deaths  Recoveries  d_cases    n\n",
       "0   2021-01-01   SAN MIGUEL       0.0     0.0         0.0      0.0  0.0\n",
       "1   2021-01-02   SAN MIGUEL       0.0     0.0         0.0      0.0  0.0\n",
       "2   2021-01-03   SAN MIGUEL       0.0     0.0         0.0      0.0  0.0\n",
       "3   2021-01-04   SAN MIGUEL       0.0     0.0         0.0      0.0  0.0\n",
       "4   2021-01-05   SAN MIGUEL       0.0     0.0         0.0      0.0  0.0\n",
       "..         ...          ...       ...     ...         ...      ...  ...\n",
       "725 2022-12-27         VIGA       0.0     0.0         0.0      0.0  0.0\n",
       "726 2022-12-28         VIGA       0.0     0.0         0.0      0.0  0.0\n",
       "727 2022-12-29         VIGA       0.0     0.0         0.0      0.0  0.0\n",
       "728 2022-12-30         VIGA       0.0     0.0         0.0      0.0  0.0\n",
       "729 2022-12-31         VIGA       0.0     0.0         0.0      0.0  0.0\n",
       "\n",
       "[8030 rows x 7 columns]"
      ]
     },
     "execution_count": 22,
     "metadata": {},
     "output_type": "execute_result"
    }
   ],
   "source": [
    "df_cumsum = pd.DataFrame()\n",
    "mun_list = df_cases_filtered_date[\"Municipality\"].unique()\n",
    "\n",
    "#print(mun_list)\n",
    "\n",
    "def calculate_cumsum(df, mun):\n",
    "    # dataframe with all dates included\n",
    "    df_extended = pd.DataFrame()\n",
    "    df_extended[\"Date\"] = date_range\n",
    "\n",
    "    # merge with existing dataframe\n",
    "    df_extended = pd.merge(df_extended, df, how='outer', on='Date')\n",
    "\n",
    "    # add additional data\n",
    "    df_extended['Municipality'] = mun\n",
    "    df_extended = df_extended.fillna(0)\n",
    "\n",
    "    # compute cumulative data\n",
    "    df_extended[\"n\"] = df_extended[\"d_cases\"].cumsum()\n",
    "\n",
    "    return df_extended\n",
    "\n",
    "for mun in mun_list:\n",
    "    df_mun = calculate_cumsum(df_cases_filtered_date[df_cases_filtered_date[\"Municipality\"]==mun], mun)\n",
    "    df_cumsum = pd.concat([df_cumsum, df_mun])\n",
    "\n",
    "df_cumsum"
   ]
  },
  {
   "cell_type": "markdown",
   "metadata": {},
   "source": [
    "## Compute for expected number of cases"
   ]
  },
  {
   "cell_type": "markdown",
   "metadata": {},
   "source": [
    "Load simulated population data"
   ]
  },
  {
   "cell_type": "code",
   "execution_count": 20,
   "metadata": {},
   "outputs": [],
   "source": [
    "# load population dataset\n",
    "df_pop = pd.read_csv(f'../01_data/01_processed/01_population_data/{province}_simulated_population.csv')"
   ]
  },
  {
   "cell_type": "markdown",
   "metadata": {},
   "source": [
    "### Calcurate Average Case rate $r$"
   ]
  },
  {
   "cell_type": "markdown",
   "metadata": {},
   "source": [
    "Where $r$ is the average case rate for an area for the entire period:"
   ]
  },
  {
   "cell_type": "code",
   "execution_count": 24,
   "metadata": {},
   "outputs": [
    {
     "data": {
      "text/plain": [
       "0.11776288880803139"
      ]
     },
     "execution_count": 24,
     "metadata": {},
     "output_type": "execute_result"
    }
   ],
   "source": [
    "r = 0\n",
    "\n",
    "year_range = range(int(start_date.year), int(end_date.year)+1)\n",
    "\n",
    "# calculate rate per year\n",
    "for year in year_range:\n",
    "    # get sum per year\n",
    "    r += (df_cumsum[df_cumsum['Date'].dt.year == year]['n']/ df_pop[f'{year}'].sum()).sum()\n",
    "    \n",
    "r"
   ]
  },
  {
   "cell_type": "markdown",
   "metadata": {},
   "source": [
    "### Calculate expected number of cases per municipality"
   ]
  },
  {
   "cell_type": "markdown",
   "metadata": {},
   "source": [
    "Create new DataFrame for expected number of cases"
   ]
  },
  {
   "cell_type": "code",
   "execution_count": 25,
   "metadata": {},
   "outputs": [
    {
     "data": {
      "text/html": [
       "<div>\n",
       "<style scoped>\n",
       "    .dataframe tbody tr th:only-of-type {\n",
       "        vertical-align: middle;\n",
       "    }\n",
       "\n",
       "    .dataframe tbody tr th {\n",
       "        vertical-align: top;\n",
       "    }\n",
       "\n",
       "    .dataframe thead th {\n",
       "        text-align: right;\n",
       "    }\n",
       "</style>\n",
       "<table border=\"1\" class=\"dataframe\">\n",
       "  <thead>\n",
       "    <tr style=\"text-align: right;\">\n",
       "      <th></th>\n",
       "      <th>Municipality</th>\n",
       "      <th>exp</th>\n",
       "    </tr>\n",
       "  </thead>\n",
       "  <tbody>\n",
       "    <tr>\n",
       "      <th>0</th>\n",
       "      <td>VIRAC</td>\n",
       "      <td>12.114978</td>\n",
       "    </tr>\n",
       "    <tr>\n",
       "      <th>1</th>\n",
       "      <td>VIGA</td>\n",
       "      <td>3.589752</td>\n",
       "    </tr>\n",
       "    <tr>\n",
       "      <th>2</th>\n",
       "      <td>SAN MIGUEL</td>\n",
       "      <td>2.475682</td>\n",
       "    </tr>\n",
       "    <tr>\n",
       "      <th>3</th>\n",
       "      <td>SAN ANDRES</td>\n",
       "      <td>6.207556</td>\n",
       "    </tr>\n",
       "    <tr>\n",
       "      <th>4</th>\n",
       "      <td>PANGANIBAN</td>\n",
       "      <td>1.566892</td>\n",
       "    </tr>\n",
       "    <tr>\n",
       "      <th>5</th>\n",
       "      <td>PANDAN</td>\n",
       "      <td>3.387538</td>\n",
       "    </tr>\n",
       "    <tr>\n",
       "      <th>6</th>\n",
       "      <td>GIGMOTO</td>\n",
       "      <td>1.405411</td>\n",
       "    </tr>\n",
       "    <tr>\n",
       "      <th>7</th>\n",
       "      <td>CARAMORAN</td>\n",
       "      <td>5.180599</td>\n",
       "    </tr>\n",
       "    <tr>\n",
       "      <th>8</th>\n",
       "      <td>BATO</td>\n",
       "      <td>3.470859</td>\n",
       "    </tr>\n",
       "    <tr>\n",
       "      <th>9</th>\n",
       "      <td>BARAS</td>\n",
       "      <td>2.124410</td>\n",
       "    </tr>\n",
       "    <tr>\n",
       "      <th>10</th>\n",
       "      <td>BAGAMANOC</td>\n",
       "      <td>1.825486</td>\n",
       "    </tr>\n",
       "  </tbody>\n",
       "</table>\n",
       "</div>"
      ],
      "text/plain": [
       "   Municipality        exp\n",
       "0         VIRAC  12.114978\n",
       "1          VIGA   3.589752\n",
       "2    SAN MIGUEL   2.475682\n",
       "3    SAN ANDRES   6.207556\n",
       "4    PANGANIBAN   1.566892\n",
       "5        PANDAN   3.387538\n",
       "6       GIGMOTO   1.405411\n",
       "7     CARAMORAN   5.180599\n",
       "8          BATO   3.470859\n",
       "9         BARAS   2.124410\n",
       "10    BAGAMANOC   1.825486"
      ]
     },
     "execution_count": 25,
     "metadata": {},
     "output_type": "execute_result"
    }
   ],
   "source": [
    "df_exp = pd.DataFrame(columns=['Municipality', 'exp'])\n",
    "\n",
    "\n",
    "for mun in df_pop['Municipality'].unique():\n",
    "    # calculate expected number of cases, E_i = r*N_i\n",
    "    N_i = 0\n",
    "\n",
    "    for year in year_range:\n",
    "        N_i += df_pop[df_pop['Municipality'] == mun][f'{year}']\n",
    "    \n",
    "    # expected number of cases is equal to the average number of cases per day per municipality\n",
    "    E_i = (r * (N_i/ len(year_range))) / len(pd.date_range(start=start_date, end=end_date))\n",
    "\n",
    "    # add expected value to row\n",
    "    df_exp.loc[-1] = [mun, E_i.iloc[0]]\n",
    "    df_exp.index = df_exp.index + 1 \n",
    "    df_exp = df_exp.sort_index()\n",
    "\n",
    "\n",
    "df_exp"
   ]
  },
  {
   "cell_type": "markdown",
   "metadata": {},
   "source": [
    "Combine results with dataset"
   ]
  },
  {
   "cell_type": "code",
   "execution_count": 26,
   "metadata": {},
   "outputs": [
    {
     "data": {
      "text/html": [
       "<div>\n",
       "<style scoped>\n",
       "    .dataframe tbody tr th:only-of-type {\n",
       "        vertical-align: middle;\n",
       "    }\n",
       "\n",
       "    .dataframe tbody tr th {\n",
       "        vertical-align: top;\n",
       "    }\n",
       "\n",
       "    .dataframe thead th {\n",
       "        text-align: right;\n",
       "    }\n",
       "</style>\n",
       "<table border=\"1\" class=\"dataframe\">\n",
       "  <thead>\n",
       "    <tr style=\"text-align: right;\">\n",
       "      <th></th>\n",
       "      <th>Date</th>\n",
       "      <th>Municipality</th>\n",
       "      <th>NewCases</th>\n",
       "      <th>Deaths</th>\n",
       "      <th>Recoveries</th>\n",
       "      <th>d_cases</th>\n",
       "      <th>n</th>\n",
       "      <th>exp</th>\n",
       "    </tr>\n",
       "  </thead>\n",
       "  <tbody>\n",
       "    <tr>\n",
       "      <th>0</th>\n",
       "      <td>2021-01-01</td>\n",
       "      <td>SAN MIGUEL</td>\n",
       "      <td>0.0</td>\n",
       "      <td>0.0</td>\n",
       "      <td>0.0</td>\n",
       "      <td>0.0</td>\n",
       "      <td>0.0</td>\n",
       "      <td>2.475682</td>\n",
       "    </tr>\n",
       "    <tr>\n",
       "      <th>1</th>\n",
       "      <td>2021-01-02</td>\n",
       "      <td>SAN MIGUEL</td>\n",
       "      <td>0.0</td>\n",
       "      <td>0.0</td>\n",
       "      <td>0.0</td>\n",
       "      <td>0.0</td>\n",
       "      <td>0.0</td>\n",
       "      <td>2.475682</td>\n",
       "    </tr>\n",
       "    <tr>\n",
       "      <th>2</th>\n",
       "      <td>2021-01-03</td>\n",
       "      <td>SAN MIGUEL</td>\n",
       "      <td>0.0</td>\n",
       "      <td>0.0</td>\n",
       "      <td>0.0</td>\n",
       "      <td>0.0</td>\n",
       "      <td>0.0</td>\n",
       "      <td>2.475682</td>\n",
       "    </tr>\n",
       "    <tr>\n",
       "      <th>3</th>\n",
       "      <td>2021-01-04</td>\n",
       "      <td>SAN MIGUEL</td>\n",
       "      <td>0.0</td>\n",
       "      <td>0.0</td>\n",
       "      <td>0.0</td>\n",
       "      <td>0.0</td>\n",
       "      <td>0.0</td>\n",
       "      <td>2.475682</td>\n",
       "    </tr>\n",
       "    <tr>\n",
       "      <th>4</th>\n",
       "      <td>2021-01-05</td>\n",
       "      <td>SAN MIGUEL</td>\n",
       "      <td>0.0</td>\n",
       "      <td>0.0</td>\n",
       "      <td>0.0</td>\n",
       "      <td>0.0</td>\n",
       "      <td>0.0</td>\n",
       "      <td>2.475682</td>\n",
       "    </tr>\n",
       "    <tr>\n",
       "      <th>...</th>\n",
       "      <td>...</td>\n",
       "      <td>...</td>\n",
       "      <td>...</td>\n",
       "      <td>...</td>\n",
       "      <td>...</td>\n",
       "      <td>...</td>\n",
       "      <td>...</td>\n",
       "      <td>...</td>\n",
       "    </tr>\n",
       "    <tr>\n",
       "      <th>8025</th>\n",
       "      <td>2022-12-27</td>\n",
       "      <td>VIGA</td>\n",
       "      <td>0.0</td>\n",
       "      <td>0.0</td>\n",
       "      <td>0.0</td>\n",
       "      <td>0.0</td>\n",
       "      <td>0.0</td>\n",
       "      <td>3.589752</td>\n",
       "    </tr>\n",
       "    <tr>\n",
       "      <th>8026</th>\n",
       "      <td>2022-12-28</td>\n",
       "      <td>VIGA</td>\n",
       "      <td>0.0</td>\n",
       "      <td>0.0</td>\n",
       "      <td>0.0</td>\n",
       "      <td>0.0</td>\n",
       "      <td>0.0</td>\n",
       "      <td>3.589752</td>\n",
       "    </tr>\n",
       "    <tr>\n",
       "      <th>8027</th>\n",
       "      <td>2022-12-29</td>\n",
       "      <td>VIGA</td>\n",
       "      <td>0.0</td>\n",
       "      <td>0.0</td>\n",
       "      <td>0.0</td>\n",
       "      <td>0.0</td>\n",
       "      <td>0.0</td>\n",
       "      <td>3.589752</td>\n",
       "    </tr>\n",
       "    <tr>\n",
       "      <th>8028</th>\n",
       "      <td>2022-12-30</td>\n",
       "      <td>VIGA</td>\n",
       "      <td>0.0</td>\n",
       "      <td>0.0</td>\n",
       "      <td>0.0</td>\n",
       "      <td>0.0</td>\n",
       "      <td>0.0</td>\n",
       "      <td>3.589752</td>\n",
       "    </tr>\n",
       "    <tr>\n",
       "      <th>8029</th>\n",
       "      <td>2022-12-31</td>\n",
       "      <td>VIGA</td>\n",
       "      <td>0.0</td>\n",
       "      <td>0.0</td>\n",
       "      <td>0.0</td>\n",
       "      <td>0.0</td>\n",
       "      <td>0.0</td>\n",
       "      <td>3.589752</td>\n",
       "    </tr>\n",
       "  </tbody>\n",
       "</table>\n",
       "<p>8030 rows × 8 columns</p>\n",
       "</div>"
      ],
      "text/plain": [
       "           Date Municipality  NewCases  Deaths  Recoveries  d_cases    n   \n",
       "0    2021-01-01   SAN MIGUEL       0.0     0.0         0.0      0.0  0.0  \\\n",
       "1    2021-01-02   SAN MIGUEL       0.0     0.0         0.0      0.0  0.0   \n",
       "2    2021-01-03   SAN MIGUEL       0.0     0.0         0.0      0.0  0.0   \n",
       "3    2021-01-04   SAN MIGUEL       0.0     0.0         0.0      0.0  0.0   \n",
       "4    2021-01-05   SAN MIGUEL       0.0     0.0         0.0      0.0  0.0   \n",
       "...         ...          ...       ...     ...         ...      ...  ...   \n",
       "8025 2022-12-27         VIGA       0.0     0.0         0.0      0.0  0.0   \n",
       "8026 2022-12-28         VIGA       0.0     0.0         0.0      0.0  0.0   \n",
       "8027 2022-12-29         VIGA       0.0     0.0         0.0      0.0  0.0   \n",
       "8028 2022-12-30         VIGA       0.0     0.0         0.0      0.0  0.0   \n",
       "8029 2022-12-31         VIGA       0.0     0.0         0.0      0.0  0.0   \n",
       "\n",
       "           exp  \n",
       "0     2.475682  \n",
       "1     2.475682  \n",
       "2     2.475682  \n",
       "3     2.475682  \n",
       "4     2.475682  \n",
       "...        ...  \n",
       "8025  3.589752  \n",
       "8026  3.589752  \n",
       "8027  3.589752  \n",
       "8028  3.589752  \n",
       "8029  3.589752  \n",
       "\n",
       "[8030 rows x 8 columns]"
      ]
     },
     "execution_count": 26,
     "metadata": {},
     "output_type": "execute_result"
    }
   ],
   "source": [
    "df_cumsum_exp = pd.merge(df_cumsum, df_exp, on='Municipality')\n",
    "df_cumsum_exp"
   ]
  },
  {
   "cell_type": "markdown",
   "metadata": {},
   "source": [
    "## Export Data to CSV file"
   ]
  },
  {
   "cell_type": "code",
   "execution_count": 27,
   "metadata": {},
   "outputs": [],
   "source": [
    "df_cumsum_exp.to_csv(f\"../01_data/01_processed/00_case_data/{province}_case_data.csv\",  index=False)"
   ]
  }
 ],
 "metadata": {
  "kernelspec": {
   "display_name": "Python 3",
   "language": "python",
   "name": "python3"
  },
  "language_info": {
   "codemirror_mode": {
    "name": "ipython",
    "version": 3
   },
   "file_extension": ".py",
   "mimetype": "text/x-python",
   "name": "python",
   "nbconvert_exporter": "python",
   "pygments_lexer": "ipython3",
   "version": "3.11.9"
  }
 },
 "nbformat": 4,
 "nbformat_minor": 2
}
