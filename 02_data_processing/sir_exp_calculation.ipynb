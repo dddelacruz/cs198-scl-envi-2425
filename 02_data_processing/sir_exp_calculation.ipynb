{
 "cells": [
  {
   "cell_type": "markdown",
   "metadata": {},
   "source": [
    "# Python Notebook for Calculation of Expected and SIR Values"
   ]
  },
  {
   "cell_type": "markdown",
   "metadata": {},
   "source": [
    "## Preliminaries"
   ]
  },
  {
   "cell_type": "markdown",
   "metadata": {},
   "source": [
    "Import Dependencies"
   ]
  },
  {
   "cell_type": "code",
   "execution_count": null,
   "metadata": {},
   "outputs": [],
   "source": [
    "import pandas as pd"
   ]
  },
  {
   "cell_type": "markdown",
   "metadata": {},
   "source": [
    "Set Province"
   ]
  },
  {
   "cell_type": "code",
   "execution_count": null,
   "metadata": {},
   "outputs": [],
   "source": [
    "province = \"CATANDUANES\""
   ]
  },
  {
   "cell_type": "markdown",
   "metadata": {},
   "source": [
    "Load CSV files"
   ]
  },
  {
   "cell_type": "code",
   "execution_count": null,
   "metadata": {},
   "outputs": [],
   "source": []
  },
  {
   "cell_type": "markdown",
   "metadata": {},
   "source": [
    "## Formula"
   ]
  },
  {
   "cell_type": "markdown",
   "metadata": {},
   "source": [
    "The SIR value was calculated by Satorra & Tebé (2024) using this formla:\n",
    "$$\n",
    "    SIR_{it} = Y_{it}/E_{it}\n",
    "$$\n",
    "Where $Y_it$ is the observed number of cases in the $i$-th ABS (spatial division) and $E_i$ is the expected number of cases if it behaved like the whole population.\n",
    "\n",
    "The expected number of cases $E_i$ were calculated using indirect standardization with this formula:\n",
    "$$\n",
    "    E_i=\\sum_{j=1}^J r_jN_j\n",
    "$$\n",
    "Where $N_j$ is the population in the $j$-th sex-age stratum of the area and $r_j$ is the average rate for the whole period in the same stratum and:\n",
    "$$\n",
    "    r_j=\\frac{\\sum_{i=1}^n\\sum_{t=1}^T Y_{ijt}}{\\sum_{i=1}^n\\sum_{t=1}^T N_{ijt}}\n",
    "$$"
   ]
  },
  {
   "cell_type": "markdown",
   "metadata": {},
   "source": [
    "## Calculation of Average Rate $r_{ij}$"
   ]
  }
 ],
 "metadata": {
  "kernelspec": {
   "display_name": "Python 3",
   "language": "python",
   "name": "python3"
  },
  "language_info": {
   "name": "python",
   "version": "3.11.9"
  }
 },
 "nbformat": 4,
 "nbformat_minor": 2
}
