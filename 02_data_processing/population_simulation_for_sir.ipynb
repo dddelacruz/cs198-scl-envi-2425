{
 "cells": [
  {
   "cell_type": "markdown",
   "metadata": {},
   "source": [
    "# Python Notebook for Generating Simulated Population Data"
   ]
  },
  {
   "cell_type": "markdown",
   "metadata": {},
   "source": [
    "## Preliminaries"
   ]
  },
  {
   "cell_type": "markdown",
   "metadata": {},
   "source": [
    "Import Dependencies"
   ]
  },
  {
   "cell_type": "code",
   "execution_count": 19,
   "metadata": {},
   "outputs": [],
   "source": [
    "import pandas as pd\n",
    "import numpy as np\n",
    "import random\n",
    "import math\n",
    "from matplotlib import pyplot as plt"
   ]
  },
  {
   "cell_type": "markdown",
   "metadata": {},
   "source": [
    "Set Province"
   ]
  },
  {
   "cell_type": "code",
   "execution_count": 20,
   "metadata": {},
   "outputs": [],
   "source": [
    "province = 'CATANDUANES'"
   ]
  },
  {
   "cell_type": "markdown",
   "metadata": {},
   "source": [
    "## Generation of Simulated Population Data"
   ]
  },
  {
   "cell_type": "markdown",
   "metadata": {},
   "source": [
    "Define function for population growth simulation"
   ]
  },
  {
   "cell_type": "code",
   "execution_count": 21,
   "metadata": {},
   "outputs": [],
   "source": [
    "def population_growth_simulation(b, N0, Nf):\n",
    "    if N0 > Nf:\n",
    "        b = -abs(b)\n",
    "    else:\n",
    "        b = abs(b)\n",
    "    N = np.linspace(N0,Nf,abs(Nf-N0)+1)\n",
    "    y = np.random.rand(len(N)-1)\n",
    "    tau = -np.log(1-y)/(abs(b)*N[:-1])\n",
    "    t = np.concatenate(([0], np.cumsum(tau)))\n",
    "    return t, N"
   ]
  },
  {
   "cell_type": "markdown",
   "metadata": {},
   "source": [
    "Graph population growth simulation"
   ]
  },
  {
   "cell_type": "code",
   "execution_count": 22,
   "metadata": {},
   "outputs": [
    {
     "data": {
      "image/png": "[encoded data removed]",
      "text/plain": [
       "<Figure size 640x480 with 1 Axes>"
      ]
     },
     "metadata": {},
     "output_type": "display_data"
    }
   ],
   "source": [
    "b=100\n",
    "N0 = 11086\n",
    "Nf = 11551\n",
    "nreal = 1\n",
    "for i in range(0, nreal):\n",
    "    t, N = population_growth_simulation(b, N0, Nf)\n",
    "    plt.plot(t, N)\n",
    "plt.title('Population Growth Simulation')\n",
    "plt.xlabel('Time')\n",
    "plt.ylabel('Population')\n",
    "plt.show()\n",
    "    "
   ]
  },
  {
   "cell_type": "markdown",
   "metadata": {},
   "source": [
    "## Generation for Catanduanes Province per Municipality"
   ]
  },
  {
   "cell_type": "markdown",
   "metadata": {},
   "source": [
    "From here, we simulate a couple of times. Identify which points in time refer to year 2021 and 2022 then average those values."
   ]
  },
  {
   "cell_type": "markdown",
   "metadata": {},
   "source": [
    "We first compute for the birth rate per town."
   ]
  },
  {
   "cell_type": "markdown",
   "metadata": {},
   "source": [
    "Birth rate is referred to as the number of live births per 1000 population in a given period typically a year."
   ]
  },
  {
   "cell_type": "markdown",
   "metadata": {},
   "source": [
    "Bagamanoc - 128\n",
    "Baras - 175\n",
    "Bato - 258\n",
    "Caramoran - 396\n",
    "Gigmoto - 129\n",
    "Pandan - 294\n",
    "Panganiban - 117\n",
    "San Andres - 580\n",
    "San Miguel - 194\n",
    "Viga - 274\n",
    "Virac - 977"
   ]
  },
  {
   "cell_type": "markdown",
   "metadata": {},
   "source": [
    "As for the population in 2020,\n",
    "11086\n",
    "13484\n",
    "21748\n",
    "32114\n",
    "8712\n",
    "21473\n",
    "9713\n",
    "38480\n",
    "15680\n",
    "22869\n",
    "76520"
   ]
  },
  {
   "cell_type": "markdown",
   "metadata": {},
   "source": [
    "\\* Data sources:\n",
    "- 2020 population: https://www.philatlas.com/luzon/r05/catanduanes.html\n",
    "- 2023 population: https://cmci.dti.gov.ph/prov-profile.php?prov=Catanduanes"
   ]
  },
  {
   "cell_type": "code",
   "execution_count": 23,
   "metadata": {},
   "outputs": [],
   "source": [
    "births_2020 = [128, 175, 258, 396, 129, 294, 117, 580, 194, 274, 977]\n",
    "pop_2020 = [11086, 13484, 21748, 32114, 8712, 21473, 9713, 38480, 15680, 22869, 76520]\n",
    "pop_2023 = [11551, 12848,21279,32114,8712,20516,9713,38480,15006,21624,73650]\n",
    "order = [\"BAGAMANOC\", \"BARAS\", \"BATO\",\"CARAMORAN\",\"GIGMOTO\",\"PANDAN\",\"PANGANIBAN\",\"SAN ANDRES\",\"SAN MIGUEL\",\"VIGA\",\"VIRAC\"]\n",
    "dct = {}\n",
    "for i in range(len(order)):\n",
    "    dct[order[i]] = (1000*births_2020[i])/pop_2020[i]"
   ]
  },
  {
   "cell_type": "code",
   "execution_count": 24,
   "metadata": {},
   "outputs": [],
   "source": [
    "fs_dct = {}\n",
    "for i in range(len(order)):\n",
    "    b=dct[order[i]]\n",
    "    N0 = pop_2020[i]\n",
    "    Nf = pop_2023[i]\n",
    "    nreal = 100\n",
    "    first, second = 0, 0\n",
    "    for j in range(0, nreal):\n",
    "        t, N = population_growth_simulation(b, N0, Nf)\n",
    "        first += N[int((N.size)*0.33)]\n",
    "        second += N[int((N.size)*0.66)]\n",
    "    first = first/nreal\n",
    "    second = second/nreal\n",
    "    fs_dct[order[i]] = (first, second)"
   ]
  },
  {
   "cell_type": "code",
   "execution_count": 25,
   "metadata": {},
   "outputs": [
    {
     "name": "stdout",
     "output_type": "stream",
     "text": [
      "0 BAGAMANOC (11239.0, 11393.0)\n",
      "1 BARAS (13274.0, 13064.0)\n",
      "2 BATO (21593.0, 21438.0)\n",
      "3 CARAMORAN (32114.0, 32114.0)\n",
      "4 GIGMOTO (8712.0, 8712.0)\n",
      "5 PANDAN (21157.0, 20841.0)\n",
      "6 PANGANIBAN (9713.0, 9713.0)\n",
      "7 SAN ANDRES (38480.0, 38480.0)\n",
      "8 SAN MIGUEL (15458.0, 15235.0)\n",
      "9 VIGA (22458.0, 22047.0)\n",
      "10 VIRAC (75573.0, 74626.0)\n"
     ]
    }
   ],
   "source": [
    "for idx, val in enumerate(fs_dct):\n",
    "    print(idx, val, fs_dct[val])"
   ]
  },
  {
   "cell_type": "code",
   "execution_count": 26,
   "metadata": {},
   "outputs": [],
   "source": [
    "df = pd.DataFrame.from_dict(fs_dct, orient=\"index\", columns=[\"2021\", \"2022\"])"
   ]
  },
  {
   "cell_type": "code",
   "execution_count": 27,
   "metadata": {},
   "outputs": [
    {
     "data": {
      "text/html": [
       "<div>\n",
       "<style scoped>\n",
       "    .dataframe tbody tr th:only-of-type {\n",
       "        vertical-align: middle;\n",
       "    }\n",
       "\n",
       "    .dataframe tbody tr th {\n",
       "        vertical-align: top;\n",
       "    }\n",
       "\n",
       "    .dataframe thead th {\n",
       "        text-align: right;\n",
       "    }\n",
       "</style>\n",
       "<table border=\"1\" class=\"dataframe\">\n",
       "  <thead>\n",
       "    <tr style=\"text-align: right;\">\n",
       "      <th></th>\n",
       "      <th>2021</th>\n",
       "      <th>2022</th>\n",
       "    </tr>\n",
       "  </thead>\n",
       "  <tbody>\n",
       "    <tr>\n",
       "      <th>BAGAMANOC</th>\n",
       "      <td>11239.0</td>\n",
       "      <td>11393.0</td>\n",
       "    </tr>\n",
       "    <tr>\n",
       "      <th>BARAS</th>\n",
       "      <td>13274.0</td>\n",
       "      <td>13064.0</td>\n",
       "    </tr>\n",
       "    <tr>\n",
       "      <th>BATO</th>\n",
       "      <td>21593.0</td>\n",
       "      <td>21438.0</td>\n",
       "    </tr>\n",
       "    <tr>\n",
       "      <th>CARAMORAN</th>\n",
       "      <td>32114.0</td>\n",
       "      <td>32114.0</td>\n",
       "    </tr>\n",
       "    <tr>\n",
       "      <th>GIGMOTO</th>\n",
       "      <td>8712.0</td>\n",
       "      <td>8712.0</td>\n",
       "    </tr>\n",
       "  </tbody>\n",
       "</table>\n",
       "</div>"
      ],
      "text/plain": [
       "              2021     2022\n",
       "BAGAMANOC  11239.0  11393.0\n",
       "BARAS      13274.0  13064.0\n",
       "BATO       21593.0  21438.0\n",
       "CARAMORAN  32114.0  32114.0\n",
       "GIGMOTO     8712.0   8712.0"
      ]
     },
     "execution_count": 27,
     "metadata": {},
     "output_type": "execute_result"
    }
   ],
   "source": [
    "df.head()"
   ]
  },
  {
   "cell_type": "code",
   "execution_count": 28,
   "metadata": {},
   "outputs": [],
   "source": [
    "df[\"2021\"] = df[\"2021\"].astype(int)\n",
    "df[\"2022\"] = df[\"2022\"].astype(int)"
   ]
  },
  {
   "cell_type": "code",
   "execution_count": 29,
   "metadata": {},
   "outputs": [],
   "source": [
    "df[\"2020\"] = order\n",
    "df[\"2020\"] = df[\"2020\"].map(dict(zip(order, pop_2020)))"
   ]
  },
  {
   "cell_type": "code",
   "execution_count": 30,
   "metadata": {},
   "outputs": [
    {
     "data": {
      "text/html": [
       "<div>\n",
       "<style scoped>\n",
       "    .dataframe tbody tr th:only-of-type {\n",
       "        vertical-align: middle;\n",
       "    }\n",
       "\n",
       "    .dataframe tbody tr th {\n",
       "        vertical-align: top;\n",
       "    }\n",
       "\n",
       "    .dataframe thead th {\n",
       "        text-align: right;\n",
       "    }\n",
       "</style>\n",
       "<table border=\"1\" class=\"dataframe\">\n",
       "  <thead>\n",
       "    <tr style=\"text-align: right;\">\n",
       "      <th></th>\n",
       "      <th>2021</th>\n",
       "      <th>2022</th>\n",
       "      <th>2020</th>\n",
       "    </tr>\n",
       "  </thead>\n",
       "  <tbody>\n",
       "    <tr>\n",
       "      <th>BAGAMANOC</th>\n",
       "      <td>11239</td>\n",
       "      <td>11393</td>\n",
       "      <td>11086</td>\n",
       "    </tr>\n",
       "    <tr>\n",
       "      <th>BARAS</th>\n",
       "      <td>13274</td>\n",
       "      <td>13064</td>\n",
       "      <td>13484</td>\n",
       "    </tr>\n",
       "    <tr>\n",
       "      <th>BATO</th>\n",
       "      <td>21593</td>\n",
       "      <td>21438</td>\n",
       "      <td>21748</td>\n",
       "    </tr>\n",
       "    <tr>\n",
       "      <th>CARAMORAN</th>\n",
       "      <td>32114</td>\n",
       "      <td>32114</td>\n",
       "      <td>32114</td>\n",
       "    </tr>\n",
       "    <tr>\n",
       "      <th>GIGMOTO</th>\n",
       "      <td>8712</td>\n",
       "      <td>8712</td>\n",
       "      <td>8712</td>\n",
       "    </tr>\n",
       "  </tbody>\n",
       "</table>\n",
       "</div>"
      ],
      "text/plain": [
       "            2021   2022   2020\n",
       "BAGAMANOC  11239  11393  11086\n",
       "BARAS      13274  13064  13484\n",
       "BATO       21593  21438  21748\n",
       "CARAMORAN  32114  32114  32114\n",
       "GIGMOTO     8712   8712   8712"
      ]
     },
     "execution_count": 30,
     "metadata": {},
     "output_type": "execute_result"
    }
   ],
   "source": [
    "df.head()"
   ]
  },
  {
   "cell_type": "code",
   "execution_count": null,
   "metadata": {},
   "outputs": [
    {
     "data": {
      "text/html": [
       "<div>\n",
       "<style scoped>\n",
       "    .dataframe tbody tr th:only-of-type {\n",
       "        vertical-align: middle;\n",
       "    }\n",
       "\n",
       "    .dataframe tbody tr th {\n",
       "        vertical-align: top;\n",
       "    }\n",
       "\n",
       "    .dataframe thead th {\n",
       "        text-align: right;\n",
       "    }\n",
       "</style>\n",
       "<table border=\"1\" class=\"dataframe\">\n",
       "  <thead>\n",
       "    <tr style=\"text-align: right;\">\n",
       "      <th></th>\n",
       "      <th>2020</th>\n",
       "      <th>2021</th>\n",
       "      <th>2022</th>\n",
       "    </tr>\n",
       "    <tr>\n",
       "      <th>Municipality</th>\n",
       "      <th></th>\n",
       "      <th></th>\n",
       "      <th></th>\n",
       "    </tr>\n",
       "  </thead>\n",
       "  <tbody>\n",
       "    <tr>\n",
       "      <th>BAGAMANOC</th>\n",
       "      <td>11086</td>\n",
       "      <td>11239</td>\n",
       "      <td>11393</td>\n",
       "    </tr>\n",
       "    <tr>\n",
       "      <th>BARAS</th>\n",
       "      <td>13484</td>\n",
       "      <td>13274</td>\n",
       "      <td>13064</td>\n",
       "    </tr>\n",
       "    <tr>\n",
       "      <th>BATO</th>\n",
       "      <td>21748</td>\n",
       "      <td>21593</td>\n",
       "      <td>21438</td>\n",
       "    </tr>\n",
       "    <tr>\n",
       "      <th>CARAMORAN</th>\n",
       "      <td>32114</td>\n",
       "      <td>32114</td>\n",
       "      <td>32114</td>\n",
       "    </tr>\n",
       "    <tr>\n",
       "      <th>GIGMOTO</th>\n",
       "      <td>8712</td>\n",
       "      <td>8712</td>\n",
       "      <td>8712</td>\n",
       "    </tr>\n",
       "    <tr>\n",
       "      <th>PANDAN</th>\n",
       "      <td>21473</td>\n",
       "      <td>21157</td>\n",
       "      <td>20841</td>\n",
       "    </tr>\n",
       "    <tr>\n",
       "      <th>PANGANIBAN</th>\n",
       "      <td>9713</td>\n",
       "      <td>9713</td>\n",
       "      <td>9713</td>\n",
       "    </tr>\n",
       "    <tr>\n",
       "      <th>SAN ANDRES</th>\n",
       "      <td>38480</td>\n",
       "      <td>38480</td>\n",
       "      <td>38480</td>\n",
       "    </tr>\n",
       "    <tr>\n",
       "      <th>SAN MIGUEL</th>\n",
       "      <td>15680</td>\n",
       "      <td>15458</td>\n",
       "      <td>15235</td>\n",
       "    </tr>\n",
       "    <tr>\n",
       "      <th>VIGA</th>\n",
       "      <td>22869</td>\n",
       "      <td>22458</td>\n",
       "      <td>22047</td>\n",
       "    </tr>\n",
       "    <tr>\n",
       "      <th>VIRAC</th>\n",
       "      <td>76520</td>\n",
       "      <td>75573</td>\n",
       "      <td>74626</td>\n",
       "    </tr>\n",
       "  </tbody>\n",
       "</table>\n",
       "</div>"
      ],
      "text/plain": [
       "               2020   2021   2022\n",
       "Municipality                     \n",
       "BAGAMANOC     11086  11239  11393\n",
       "BARAS         13484  13274  13064\n",
       "BATO          21748  21593  21438\n",
       "CARAMORAN     32114  32114  32114\n",
       "GIGMOTO        8712   8712   8712\n",
       "PANDAN        21473  21157  20841\n",
       "PANGANIBAN     9713   9713   9713\n",
       "SAN ANDRES    38480  38480  38480\n",
       "SAN MIGUEL    15680  15458  15235\n",
       "VIGA          22869  22458  22047\n",
       "VIRAC         76520  75573  74626"
      ]
     },
     "execution_count": 36,
     "metadata": {},
     "output_type": "execute_result"
    }
   ],
   "source": [
    "df = df[[\"2020\", \"2021\", \"2022\"]]\n",
    "df.index.names = [\"Municipality\"]"
   ]
  },
  {
   "cell_type": "markdown",
   "metadata": {},
   "source": [
    "Export to CSV file"
   ]
  },
  {
   "cell_type": "code",
   "execution_count": 18,
   "metadata": {},
   "outputs": [],
   "source": [
    "df.to_csv(f'../01_data/01_processed/01_population_data/{province}_simulated_population.csv')"
   ]
  }
 ],
 "metadata": {
  "kernelspec": {
   "display_name": "Python 3",
   "language": "python",
   "name": "python3"
  },
  "language_info": {
   "codemirror_mode": {
    "name": "ipython",
    "version": 3
   },
   "file_extension": ".py",
   "mimetype": "text/x-python",
   "name": "python",
   "nbconvert_exporter": "python",
   "pygments_lexer": "ipython3",
   "version": "3.11.9"
  }
 },
 "nbformat": 4,
 "nbformat_minor": 2
}
